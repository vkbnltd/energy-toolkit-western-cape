{
 "cells": [
  {
   "cell_type": "code",
   "execution_count": 1,
   "id": "74a36626-2b35-4b69-ae7f-92539288d323",
   "metadata": {},
   "outputs": [
    {
     "name": "stdout",
     "output_type": "stream",
     "text": [
      "Creating data for all 24 scenarios using following configuration from (demo.json):\n",
      "  config-name: demo\n",
      "  base-currency: ZAR\n",
      "  exchange-rates: {'EUR': 18.79, 'USD': 16.47}\n",
      "  base-year: 2024\n",
      "  discount-rate: 0.04\n",
      "  h2-initial: 1000\n",
      "  offwind-ratio: 0.5\n",
      "  biogas-method: average\n",
      "  demand: {'base-demand': 20000000, 'projection': {'2030': 30000000, '2040': 40000000}, 'growth-only': True}\n",
      "\n",
      "Clear api folder\n",
      "Check the get_geo(config) function\n",
      "Create and store parameters\n",
      "Check weather files\n",
      "Check renewables data\n",
      "Renewables files do not exist for geography Western Cape. Please see /input/renewables/generate-renewables.ipynb\n",
      "Create and store demand\n",
      "Create and store network\n",
      "Using config:\n",
      "\tself-sufficiency:0.5\n",
      "\th2:False\n",
      "\toffwind:False\n",
      "\tbiogas:0\n"
     ]
    },
    {
     "name": "stderr",
     "output_type": "stream",
     "text": [
      "INFO:pypsa.io:Exported network 'network.nc' contains: buses, loads, links, generators, stores, carriers\n"
     ]
    },
    {
     "name": "stdout",
     "output_type": "stream",
     "text": [
      "Run optimization\n"
     ]
    },
    {
     "name": "stderr",
     "output_type": "stream",
     "text": [
      "INFO:pypsa.io:Imported network network.nc has buses, carriers, generators, links, loads, stores\n",
      "INFO:linopy.model: Solve problem using Highs solver\n",
      "INFO:linopy.io:Writing objective.\n",
      "Writing constraints.: 100%|\u001b[38;2;128;191;255m██████████\u001b[0m| 17/17 [00:00<00:00, 61.22it/s]\n",
      "Writing continuous variables.: 100%|\u001b[38;2;128;191;255m██████████\u001b[0m| 8/8 [00:00<00:00, 167.31it/s]\n",
      "Writing integer variables.: 100%|\u001b[38;2;128;191;255m██████████\u001b[0m| 1/1 [00:00<00:00, 891.65it/s]\n",
      "INFO:linopy.io: Writing time: 0.35s\n",
      "INFO:linopy.solvers:Log file at /tmp/highs.log\n"
     ]
    },
    {
     "name": "stdout",
     "output_type": "stream",
     "text": [
      "Running HiGHS 1.7.2 (git hash: 184e327): Copyright (c) 2024 HiGHS under MIT licence terms\n",
      "Coefficient ranges:\n",
      "  Matrix [3e-08, 5e+00]\n",
      "  Cost   [1e+02, 2e+06]\n",
      "  Bound  [0e+00, 0e+00]\n"
     ]
    },
    {
     "name": "stderr",
     "output_type": "stream",
     "text": [
      "INFO:linopy.constants: Optimization successful: \n",
      "Status: ok\n",
      "Termination condition: optimal\n",
      "Solution: 26290 primals, 58412 duals\n",
      "Objective: 6.17e+09\n",
      "Solver model: available\n",
      "Solver message: optimal\n",
      "\n",
      "INFO:pypsa.optimization.optimize:The shadow-prices of the constraints Generator-ext-p-lower, Generator-ext-p-upper, Link-ext-p-lower, Link-ext-p-upper, Store-ext-e-lower, Store-ext-e-upper, Store-energy_balance, self_sufficiency_constraint were not assigned to the network.\n"
     ]
    },
    {
     "name": "stdout",
     "output_type": "stream",
     "text": [
      "  RHS    [6e+02, 1e+06]\n",
      "Presolving model\n",
      "27787 rows, 24870 cols, 74598 nonzeros  0s\n",
      "22250 rows, 19333 cols, 68896 nonzeros  0s\n",
      "21691 rows, 18774 cols, 71126 nonzeros  0s\n",
      "\n",
      "Solving MIP model with:\n",
      "   21691 rows\n",
      "   18774 cols (0 binary, 2 integer, 0 implied int., 18772 continuous)\n",
      "   71126 nonzeros\n",
      "\n",
      "        Nodes      |    B&B Tree     |            Objective Bounds              |  Dynamic Constraints |       Work      \n",
      "     Proc. InQueue |  Leaves   Expl. | BestBound       BestSol              Gap |   Cuts   InLp Confl. | LpIters     Time\n",
      "\n",
      "         0       0         0   0.00%   -inf            inf                  inf        0      0      0         0     0.1s\n",
      " S       0       0         0   0.00%   -inf            6165828349.514     Large        0      0      0         0     4.3s\n",
      "\n",
      "Solving report\n",
      "  Status            Optimal\n",
      "  Primal bound      6165828349.51\n",
      "  Dual bound        6165437416.34\n",
      "  Gap               0.00634% (tolerance: 0.01%)\n",
      "  Solution status   feasible\n",
      "                    6165828349.51 (objective)\n",
      "                    0 (bound viol.)\n",
      "                    0 (int. viol.)\n",
      "                    0 (row viol.)\n",
      "  Timing            4.30 (total)\n",
      "                    0.14 (presolve)\n",
      "                    0.00 (postsolve)\n",
      "  Nodes             1\n",
      "  LP iterations     28211 (total)\n",
      "                    0 (strong br.)\n",
      "                    0 (separation)\n",
      "                    0 (heuristics)\n",
      "Writing the solution to /tmp/linopy-solve-hqbhgbn7.sol\n"
     ]
    },
    {
     "name": "stderr",
     "output_type": "stream",
     "text": [
      "INFO:pypsa.io:Exported network 'network.nc' contains: buses, loads, links, generators, stores, carriers\n",
      "INFO:pypsa.io:Imported network network.nc has buses, carriers, generators, links, loads, stores\n"
     ]
    },
    {
     "name": "stdout",
     "output_type": "stream",
     "text": [
      "1 out of 24: ('Western Cape', 2030, 0.5, -0.2, False, False, 0)\n",
      "Check the get_geo(config) function\n",
      "Create and store parameters\n",
      "Check weather files\n",
      "Check renewables data\n",
      "Renewables files do not exist for geography Western Cape. Please see /input/renewables/generate-renewables.ipynb\n",
      "Create and store demand\n",
      "Create and store network\n",
      "Using config:\n",
      "\tself-sufficiency:0.5\n",
      "\th2:False\n",
      "\toffwind:True\n",
      "\tbiogas:0\n"
     ]
    },
    {
     "name": "stderr",
     "output_type": "stream",
     "text": [
      "INFO:pypsa.io:Exported network 'network.nc' contains: buses, loads, links, generators, stores, carriers\n",
      "INFO:pypsa.io:Imported network network.nc has buses, carriers, generators, links, loads, stores\n"
     ]
    },
    {
     "name": "stdout",
     "output_type": "stream",
     "text": [
      "Run optimization\n"
     ]
    },
    {
     "name": "stderr",
     "output_type": "stream",
     "text": [
      "INFO:linopy.model: Solve problem using Highs solver\n",
      "INFO:linopy.io:Writing objective.\n",
      "Writing constraints.: 100%|\u001b[38;2;128;191;255m██████████\u001b[0m| 17/17 [00:00<00:00, 51.52it/s]\n",
      "Writing continuous variables.: 100%|\u001b[38;2;128;191;255m██████████\u001b[0m| 8/8 [00:00<00:00, 174.65it/s]\n",
      "Writing integer variables.: 100%|\u001b[38;2;128;191;255m██████████\u001b[0m| 1/1 [00:00<00:00, 589.17it/s]\n",
      "INFO:linopy.io: Writing time: 0.41s\n",
      "INFO:linopy.solvers:Log file at /tmp/highs.log\n"
     ]
    },
    {
     "name": "stdout",
     "output_type": "stream",
     "text": [
      "Running HiGHS 1.7.2 (git hash: 184e327): Copyright (c) 2024 HiGHS under MIT licence terms\n",
      "Coefficient ranges:\n",
      "  Matrix [3e-08, 2e+01]\n",
      "  Cost   [1e+02, 3e+06]\n",
      "  Bound  [0e+00, 0e+00]\n",
      "  RHS    [6e+02, 1e+06]\n"
     ]
    },
    {
     "name": "stderr",
     "output_type": "stream",
     "text": [
      "INFO:linopy.constants: Optimization successful: \n",
      "Status: ok\n",
      "Termination condition: optimal\n",
      "Solution: 29212 primals, 64254 duals\n",
      "Objective: 6.17e+09\n",
      "Solver model: available\n",
      "Solver message: optimal\n",
      "\n",
      "INFO:pypsa.optimization.optimize:The shadow-prices of the constraints Generator-ext-p-lower, Generator-ext-p-upper, Link-ext-p-lower, Link-ext-p-upper, Store-ext-e-lower, Store-ext-e-upper, Store-energy_balance, self_sufficiency_constraint were not assigned to the network.\n",
      "INFO:pypsa.io:Exported network 'network.nc' contains: buses, loads, links, generators, stores, carriers\n"
     ]
    },
    {
     "name": "stdout",
     "output_type": "stream",
     "text": [
      "Presolving model\n",
      "30707 rows, 27791 cols, 83358 nonzeros  0s\n",
      "26061 rows, 23145 cols, 82210 nonzeros  0s\n",
      "26061 rows, 23145 cols, 82210 nonzeros  0s\n",
      "\n",
      "Solving MIP model with:\n",
      "   26061 rows\n",
      "   23145 cols (0 binary, 3 integer, 0 implied int., 23142 continuous)\n",
      "   82210 nonzeros\n",
      "\n",
      "        Nodes      |    B&B Tree     |            Objective Bounds              |  Dynamic Constraints |       Work      \n",
      "     Proc. InQueue |  Leaves   Expl. | BestBound       BestSol              Gap |   Cuts   InLp Confl. | LpIters     Time\n",
      "\n",
      "         0       0         0   0.00%   -inf            inf                  inf        0      0      0         0     0.1s\n",
      " S       0       0         0   0.00%   -inf            6165828349.514     Large        0      0      0         0     6.3s\n",
      "\n",
      "Solving report\n",
      "  Status            Optimal\n",
      "  Primal bound      6165828349.51\n",
      "  Dual bound        6165437416.34\n",
      "  Gap               0.00634% (tolerance: 0.01%)\n",
      "  Solution status   feasible\n",
      "                    6165828349.51 (objective)\n",
      "                    0 (bound viol.)\n",
      "                    0 (int. viol.)\n",
      "                    0 (row viol.)\n",
      "  Timing            6.31 (total)\n",
      "                    0.12 (presolve)\n",
      "                    0.00 (postsolve)\n",
      "  Nodes             1\n",
      "  LP iterations     39023 (total)\n",
      "                    0 (strong br.)\n",
      "                    0 (separation)\n",
      "                    0 (heuristics)\n",
      "Writing the solution to /tmp/linopy-solve-qfib2zi2.sol\n"
     ]
    },
    {
     "name": "stderr",
     "output_type": "stream",
     "text": [
      "INFO:pypsa.io:Imported network network.nc has buses, carriers, generators, links, loads, stores\n"
     ]
    },
    {
     "name": "stdout",
     "output_type": "stream",
     "text": [
      "2 out of 24: ('Western Cape', 2030, 0.5, -0.2, False, True, 0)\n",
      "Check the get_geo(config) function\n",
      "Create and store parameters\n",
      "Check weather files\n",
      "Check renewables data\n",
      "Renewables files do not exist for geography Western Cape. Please see /input/renewables/generate-renewables.ipynb\n",
      "Create and store demand\n",
      "Create and store network\n",
      "Using config:\n",
      "\tself-sufficiency:0.5\n",
      "\th2:False\n",
      "\toffwind:False\n",
      "\tbiogas:0\n"
     ]
    },
    {
     "name": "stderr",
     "output_type": "stream",
     "text": [
      "INFO:pypsa.io:Exported network 'network.nc' contains: buses, loads, links, generators, stores, carriers\n",
      "INFO:pypsa.io:Imported network network.nc has buses, carriers, generators, links, loads, stores\n"
     ]
    },
    {
     "name": "stdout",
     "output_type": "stream",
     "text": [
      "Run optimization\n"
     ]
    },
    {
     "name": "stderr",
     "output_type": "stream",
     "text": [
      "INFO:linopy.model: Solve problem using Highs solver\n",
      "INFO:linopy.io:Writing objective.\n",
      "Writing constraints.: 100%|\u001b[38;2;128;191;255m██████████\u001b[0m| 17/17 [00:00<00:00, 70.92it/s]\n",
      "Writing continuous variables.: 100%|\u001b[38;2;128;191;255m██████████\u001b[0m| 8/8 [00:00<00:00, 181.99it/s]\n",
      "Writing integer variables.: 100%|\u001b[38;2;128;191;255m██████████\u001b[0m| 1/1 [00:00<00:00, 578.13it/s]\n",
      "INFO:linopy.io: Writing time: 0.31s\n",
      "INFO:linopy.solvers:Log file at /tmp/highs.log\n"
     ]
    },
    {
     "name": "stdout",
     "output_type": "stream",
     "text": [
      "Running HiGHS 1.7.2 (git hash: 184e327): Copyright (c) 2024 HiGHS under MIT licence terms\n"
     ]
    },
    {
     "name": "stderr",
     "output_type": "stream",
     "text": [
      "INFO:linopy.constants: Optimization successful: \n",
      "Status: ok\n",
      "Termination condition: optimal\n",
      "Solution: 26290 primals, 58412 duals\n",
      "Objective: 7.71e+09\n",
      "Solver model: available\n",
      "Solver message: optimal\n",
      "\n",
      "INFO:pypsa.optimization.optimize:The shadow-prices of the constraints Generator-ext-p-lower, Generator-ext-p-upper, Link-ext-p-lower, Link-ext-p-upper, Store-ext-e-lower, Store-ext-e-upper, Store-energy_balance, self_sufficiency_constraint were not assigned to the network.\n"
     ]
    },
    {
     "name": "stdout",
     "output_type": "stream",
     "text": [
      "Coefficient ranges:\n",
      "  Matrix [3e-08, 5e+00]\n",
      "  Cost   [1e+02, 2e+06]\n",
      "  Bound  [0e+00, 0e+00]\n",
      "  RHS    [7e+02, 2e+06]\n",
      "Presolving model\n",
      "27787 rows, 24870 cols, 74598 nonzeros  0s\n",
      "22250 rows, 19333 cols, 68896 nonzeros  0s\n",
      "21691 rows, 18774 cols, 71126 nonzeros  0s\n",
      "\n",
      "Solving MIP model with:\n",
      "   21691 rows\n",
      "   18774 cols (0 binary, 2 integer, 0 implied int., 18772 continuous)\n",
      "   71126 nonzeros\n",
      "\n",
      "        Nodes      |    B&B Tree     |            Objective Bounds              |  Dynamic Constraints |       Work      \n",
      "     Proc. InQueue |  Leaves   Expl. | BestBound       BestSol              Gap |   Cuts   InLp Confl. | LpIters     Time\n",
      "\n",
      "         0       0         0   0.00%   -inf            inf                  inf        0      0      0         0     0.1s\n",
      " S       0       0         0   0.00%   -inf            7707285436.892     Large        0      0      0         0     3.4s\n",
      "\n",
      "Solving report\n",
      "  Status            Optimal\n",
      "  Primal bound      7707285436.89\n",
      "  Dual bound        7706796770.43\n",
      "  Gap               0.00634% (tolerance: 0.01%)\n",
      "  Solution status   feasible\n",
      "                    7707285436.89 (objective)\n",
      "                    0 (bound viol.)\n",
      "                    0 (int. viol.)\n",
      "                    0 (row viol.)\n",
      "  Timing            3.44 (total)\n",
      "                    0.12 (presolve)\n",
      "                    0.00 (postsolve)\n",
      "  Nodes             1\n",
      "  LP iterations     25749 (total)\n",
      "                    0 (strong br.)\n",
      "                    0 (separation)\n",
      "                    0 (heuristics)\n",
      "Writing the solution to /tmp/linopy-solve-wyfw7oem.sol\n"
     ]
    },
    {
     "name": "stderr",
     "output_type": "stream",
     "text": [
      "INFO:pypsa.io:Exported network 'network.nc' contains: buses, loads, links, generators, stores, carriers\n",
      "INFO:pypsa.io:Imported network network.nc has buses, carriers, generators, links, loads, stores\n"
     ]
    },
    {
     "name": "stdout",
     "output_type": "stream",
     "text": [
      "3 out of 24: ('Western Cape', 2030, 0.5, 0, False, False, 0)\n",
      "Check the get_geo(config) function\n",
      "Create and store parameters\n",
      "Check weather files\n",
      "Check renewables data\n",
      "Renewables files do not exist for geography Western Cape. Please see /input/renewables/generate-renewables.ipynb\n",
      "Create and store demand\n",
      "Create and store network\n",
      "Using config:\n",
      "\tself-sufficiency:0.5\n",
      "\th2:False\n",
      "\toffwind:True\n",
      "\tbiogas:0\n"
     ]
    },
    {
     "name": "stderr",
     "output_type": "stream",
     "text": [
      "INFO:pypsa.io:Exported network 'network.nc' contains: buses, loads, links, generators, stores, carriers\n",
      "INFO:pypsa.io:Imported network network.nc has buses, carriers, generators, links, loads, stores\n"
     ]
    },
    {
     "name": "stdout",
     "output_type": "stream",
     "text": [
      "Run optimization\n"
     ]
    },
    {
     "name": "stderr",
     "output_type": "stream",
     "text": [
      "INFO:linopy.model: Solve problem using Highs solver\n",
      "INFO:linopy.io:Writing objective.\n",
      "Writing constraints.: 100%|\u001b[38;2;128;191;255m██████████\u001b[0m| 17/17 [00:00<00:00, 62.35it/s]\n",
      "Writing continuous variables.: 100%|\u001b[38;2;128;191;255m██████████\u001b[0m| 8/8 [00:00<00:00, 172.64it/s]\n",
      "Writing integer variables.: 100%|\u001b[38;2;128;191;255m██████████\u001b[0m| 1/1 [00:00<00:00, 635.02it/s]\n",
      "INFO:linopy.io: Writing time: 0.35s\n",
      "INFO:linopy.solvers:Log file at /tmp/highs.log\n"
     ]
    },
    {
     "name": "stdout",
     "output_type": "stream",
     "text": [
      "Running HiGHS 1.7.2 (git hash: 184e327): Copyright (c) 2024 HiGHS under MIT licence terms\n",
      "Coefficient ranges:\n",
      "  Matrix [3e-08, 2e+01]\n",
      "  Cost   [1e+02, 3e+06]\n",
      "  Bound  [0e+00, 0e+00]\n",
      "  RHS    [7e+02, 2e+06]\n"
     ]
    },
    {
     "name": "stderr",
     "output_type": "stream",
     "text": [
      "INFO:linopy.constants: Optimization successful: \n",
      "Status: ok\n",
      "Termination condition: optimal\n",
      "Solution: 29212 primals, 64254 duals\n",
      "Objective: 7.71e+09\n",
      "Solver model: available\n",
      "Solver message: optimal\n",
      "\n",
      "INFO:pypsa.optimization.optimize:The shadow-prices of the constraints Generator-ext-p-lower, Generator-ext-p-upper, Link-ext-p-lower, Link-ext-p-upper, Store-ext-e-lower, Store-ext-e-upper, Store-energy_balance, self_sufficiency_constraint were not assigned to the network.\n"
     ]
    },
    {
     "name": "stdout",
     "output_type": "stream",
     "text": [
      "Presolving model\n",
      "30707 rows, 27791 cols, 83358 nonzeros  0s\n",
      "26061 rows, 23145 cols, 82210 nonzeros  0s\n",
      "26061 rows, 23145 cols, 82210 nonzeros  0s\n",
      "\n",
      "Solving MIP model with:\n",
      "   26061 rows\n",
      "   23145 cols (0 binary, 3 integer, 0 implied int., 23142 continuous)\n",
      "   82210 nonzeros\n",
      "\n",
      "        Nodes      |    B&B Tree     |            Objective Bounds              |  Dynamic Constraints |       Work      \n",
      "     Proc. InQueue |  Leaves   Expl. | BestBound       BestSol              Gap |   Cuts   InLp Confl. | LpIters     Time\n",
      "\n",
      "         0       0         0   0.00%   -inf            inf                  inf        0      0      0         0     0.2s\n",
      " S       0       0         0   0.00%   -inf            7707285436.892     Large        0      0      0         0     6.0s\n",
      "\n",
      "Solving report\n",
      "  Status            Optimal\n",
      "  Primal bound      7707285436.89\n",
      "  Dual bound        7706796770.43\n",
      "  Gap               0.00634% (tolerance: 0.01%)\n",
      "  Solution status   feasible\n",
      "                    7707285436.89 (objective)\n",
      "                    0 (bound viol.)\n",
      "                    0 (int. viol.)\n",
      "                    0 (row viol.)\n",
      "  Timing            5.96 (total)\n",
      "                    0.14 (presolve)\n",
      "                    0.00 (postsolve)\n",
      "  Nodes             1\n",
      "  LP iterations     37510 (total)\n",
      "                    0 (strong br.)\n",
      "                    0 (separation)\n",
      "                    0 (heuristics)\n",
      "Writing the solution to /tmp/linopy-solve-mkd1e1fc.sol\n"
     ]
    },
    {
     "name": "stderr",
     "output_type": "stream",
     "text": [
      "INFO:pypsa.io:Exported network 'network.nc' contains: buses, loads, links, generators, stores, carriers\n",
      "INFO:pypsa.io:Imported network network.nc has buses, carriers, generators, links, loads, stores\n"
     ]
    },
    {
     "name": "stdout",
     "output_type": "stream",
     "text": [
      "4 out of 24: ('Western Cape', 2030, 0.5, 0, False, True, 0)\n",
      "Check the get_geo(config) function\n",
      "Create and store parameters\n",
      "Check weather files\n",
      "Check renewables data\n",
      "Renewables files do not exist for geography Western Cape. Please see /input/renewables/generate-renewables.ipynb\n",
      "Create and store demand\n",
      "Create and store network\n",
      "Using config:\n",
      "\tself-sufficiency:0.5\n",
      "\th2:False\n",
      "\toffwind:False\n",
      "\tbiogas:0\n"
     ]
    },
    {
     "name": "stderr",
     "output_type": "stream",
     "text": [
      "INFO:pypsa.io:Exported network 'network.nc' contains: buses, loads, links, generators, stores, carriers\n",
      "INFO:pypsa.io:Imported network network.nc has buses, carriers, generators, links, loads, stores\n"
     ]
    },
    {
     "name": "stdout",
     "output_type": "stream",
     "text": [
      "Run optimization\n"
     ]
    },
    {
     "name": "stderr",
     "output_type": "stream",
     "text": [
      "INFO:linopy.model: Solve problem using Highs solver\n",
      "INFO:linopy.io:Writing objective.\n",
      "Writing constraints.: 100%|\u001b[38;2;128;191;255m██████████\u001b[0m| 17/17 [00:00<00:00, 65.92it/s]\n",
      "Writing continuous variables.: 100%|\u001b[38;2;128;191;255m██████████\u001b[0m| 8/8 [00:00<00:00, 168.89it/s]\n",
      "Writing integer variables.: 100%|\u001b[38;2;128;191;255m██████████\u001b[0m| 1/1 [00:00<00:00, 963.32it/s]\n",
      "INFO:linopy.io: Writing time: 0.33s\n",
      "INFO:linopy.solvers:Log file at /tmp/highs.log\n"
     ]
    },
    {
     "name": "stdout",
     "output_type": "stream",
     "text": [
      "Running HiGHS 1.7.2 (git hash: 184e327): Copyright (c) 2024 HiGHS under MIT licence terms\n",
      "Coefficient ranges:\n",
      "  Matrix [3e-08, 5e+00]\n",
      "  Cost   [1e+02, 2e+06]\n",
      "  Bound  [0e+00, 0e+00]\n",
      "  RHS    [9e+02, 2e+06]\n",
      "Presolving model\n",
      "27787 rows, 24870 cols, 74598 nonzeros  0s\n",
      "22250 rows, 19333 cols, 68896 nonzeros  0s\n",
      "21691 rows, 18774 cols, 71126 nonzeros  0s\n",
      "\n",
      "Solving MIP model with:\n",
      "   21691 rows\n",
      "   18774 cols (0 binary, 2 integer, 0 implied int., 18772 continuous)\n",
      "   71126 nonzeros\n",
      "\n",
      "        Nodes      |    B&B Tree     |            Objective Bounds              |  Dynamic Constraints |       Work      \n",
      "     Proc. InQueue |  Leaves   Expl. | BestBound       BestSol              Gap |   Cuts   InLp Confl. | LpIters     Time\n",
      "\n",
      "         0       0         0   0.00%   -inf            inf                  inf        0      0      0         0     0.1s\n",
      " S       0       0         0   0.00%   -inf            9248742524.264     Large        0      0      0         0     3.6s\n",
      "\n",
      "Solving report\n",
      "  Status            Optimal\n",
      "  Primal bound      9248742524.26\n",
      "  Dual bound        9248156124.51\n",
      "  Gap               0.00634% (tolerance: 0.01%)\n",
      "  Solution status   feasible\n",
      "                    9248742524.26 (objective)\n",
      "                    0 (bound viol.)\n",
      "                    0 (int. viol.)\n",
      "                    0 (row viol.)\n",
      "  Timing            3.59 (total)\n",
      "                    0.11 (presolve)\n",
      "                    0.00 (postsolve)\n",
      "  Nodes             1\n",
      "  LP iterations     27165 (total)\n",
      "                    0 (strong br.)\n",
      "                    0 (separation)\n",
      "                    0 (heuristics)\n",
      "Writing the solution to /tmp/linopy-solve-8cwmu5uq.sol\n"
     ]
    },
    {
     "name": "stderr",
     "output_type": "stream",
     "text": [
      "INFO:linopy.constants: Optimization successful: \n",
      "Status: ok\n",
      "Termination condition: optimal\n",
      "Solution: 26290 primals, 58412 duals\n",
      "Objective: 9.25e+09\n",
      "Solver model: available\n",
      "Solver message: optimal\n",
      "\n",
      "INFO:pypsa.optimization.optimize:The shadow-prices of the constraints Generator-ext-p-lower, Generator-ext-p-upper, Link-ext-p-lower, Link-ext-p-upper, Store-ext-e-lower, Store-ext-e-upper, Store-energy_balance, self_sufficiency_constraint were not assigned to the network.\n",
      "INFO:pypsa.io:Exported network 'network.nc' contains: buses, loads, links, generators, stores, carriers\n",
      "INFO:pypsa.io:Imported network network.nc has buses, carriers, generators, links, loads, stores\n"
     ]
    },
    {
     "name": "stdout",
     "output_type": "stream",
     "text": [
      "5 out of 24: ('Western Cape', 2030, 0.5, 0.2, False, False, 0)\n",
      "Check the get_geo(config) function\n",
      "Create and store parameters\n",
      "Check weather files\n",
      "Check renewables data\n",
      "Renewables files do not exist for geography Western Cape. Please see /input/renewables/generate-renewables.ipynb\n",
      "Create and store demand\n",
      "Create and store network\n",
      "Using config:\n",
      "\tself-sufficiency:0.5\n",
      "\th2:False\n",
      "\toffwind:True\n",
      "\tbiogas:0\n"
     ]
    },
    {
     "name": "stderr",
     "output_type": "stream",
     "text": [
      "INFO:pypsa.io:Exported network 'network.nc' contains: buses, loads, links, generators, stores, carriers\n",
      "INFO:pypsa.io:Imported network network.nc has buses, carriers, generators, links, loads, stores\n"
     ]
    },
    {
     "name": "stdout",
     "output_type": "stream",
     "text": [
      "Run optimization\n"
     ]
    },
    {
     "name": "stderr",
     "output_type": "stream",
     "text": [
      "INFO:linopy.model: Solve problem using Highs solver\n",
      "INFO:linopy.io:Writing objective.\n",
      "Writing constraints.: 100%|\u001b[38;2;128;191;255m██████████\u001b[0m| 17/17 [00:00<00:00, 65.49it/s]\n",
      "Writing continuous variables.: 100%|\u001b[38;2;128;191;255m██████████\u001b[0m| 8/8 [00:00<00:00, 162.29it/s]\n",
      "Writing integer variables.: 100%|\u001b[38;2;128;191;255m██████████\u001b[0m| 1/1 [00:00<00:00, 632.43it/s]\n",
      "INFO:linopy.io: Writing time: 0.34s\n",
      "INFO:linopy.solvers:Log file at /tmp/highs.log\n"
     ]
    },
    {
     "name": "stdout",
     "output_type": "stream",
     "text": [
      "Running HiGHS 1.7.2 (git hash: 184e327): Copyright (c) 2024 HiGHS under MIT licence terms\n"
     ]
    },
    {
     "name": "stderr",
     "output_type": "stream",
     "text": [
      "INFO:linopy.constants: Optimization successful: \n",
      "Status: ok\n",
      "Termination condition: optimal\n",
      "Solution: 29212 primals, 64254 duals\n",
      "Objective: 9.25e+09\n",
      "Solver model: available\n",
      "Solver message: optimal\n",
      "\n",
      "INFO:pypsa.optimization.optimize:The shadow-prices of the constraints Generator-ext-p-lower, Generator-ext-p-upper, Link-ext-p-lower, Link-ext-p-upper, Store-ext-e-lower, Store-ext-e-upper, Store-energy_balance, self_sufficiency_constraint were not assigned to the network.\n"
     ]
    },
    {
     "name": "stdout",
     "output_type": "stream",
     "text": [
      "Coefficient ranges:\n",
      "  Matrix [3e-08, 2e+01]\n",
      "  Cost   [1e+02, 3e+06]\n",
      "  Bound  [0e+00, 0e+00]\n",
      "  RHS    [9e+02, 2e+06]\n",
      "Presolving model\n",
      "30707 rows, 27791 cols, 83358 nonzeros  0s\n",
      "26061 rows, 23145 cols, 82210 nonzeros  0s\n",
      "26061 rows, 23145 cols, 82210 nonzeros  0s\n",
      "\n",
      "Solving MIP model with:\n",
      "   26061 rows\n",
      "   23145 cols (0 binary, 3 integer, 0 implied int., 23142 continuous)\n",
      "   82210 nonzeros\n",
      "\n",
      "        Nodes      |    B&B Tree     |            Objective Bounds              |  Dynamic Constraints |       Work      \n",
      "     Proc. InQueue |  Leaves   Expl. | BestBound       BestSol              Gap |   Cuts   InLp Confl. | LpIters     Time\n",
      "\n",
      "         0       0         0   0.00%   -inf            inf                  inf        0      0      0         0     0.1s\n",
      " S       0       0         0   0.00%   -inf            9248742524.264     Large        0      0      0         0     6.3s\n",
      "\n",
      "Solving report\n",
      "  Status            Optimal\n",
      "  Primal bound      9248742524.26\n",
      "  Dual bound        9248156124.51\n",
      "  Gap               0.00634% (tolerance: 0.01%)\n",
      "  Solution status   feasible\n",
      "                    9248742524.26 (objective)\n",
      "                    0 (bound viol.)\n",
      "                    0 (int. viol.)\n",
      "                    0 (row viol.)\n",
      "  Timing            6.26 (total)\n",
      "                    0.12 (presolve)\n",
      "                    0.00 (postsolve)\n",
      "  Nodes             1\n",
      "  LP iterations     38009 (total)\n",
      "                    0 (strong br.)\n",
      "                    0 (separation)\n",
      "                    0 (heuristics)\n",
      "Writing the solution to /tmp/linopy-solve-vaixam8k.sol\n"
     ]
    },
    {
     "name": "stderr",
     "output_type": "stream",
     "text": [
      "INFO:pypsa.io:Exported network 'network.nc' contains: buses, loads, links, generators, stores, carriers\n",
      "INFO:pypsa.io:Imported network network.nc has buses, carriers, generators, links, loads, stores\n"
     ]
    },
    {
     "name": "stdout",
     "output_type": "stream",
     "text": [
      "6 out of 24: ('Western Cape', 2030, 0.5, 0.2, False, True, 0)\n",
      "Check the get_geo(config) function\n",
      "Create and store parameters\n",
      "Check weather files\n",
      "Check renewables data\n",
      "Renewables files do not exist for geography Western Cape. Please see /input/renewables/generate-renewables.ipynb\n",
      "Create and store demand\n",
      "Create and store network\n",
      "Using config:\n",
      "\tself-sufficiency:0.75\n",
      "\th2:False\n",
      "\toffwind:False\n",
      "\tbiogas:0\n"
     ]
    },
    {
     "name": "stderr",
     "output_type": "stream",
     "text": [
      "INFO:pypsa.io:Exported network 'network.nc' contains: buses, loads, links, generators, stores, carriers\n",
      "INFO:pypsa.io:Imported network network.nc has buses, carriers, generators, links, loads, stores\n"
     ]
    },
    {
     "name": "stdout",
     "output_type": "stream",
     "text": [
      "Run optimization\n"
     ]
    },
    {
     "name": "stderr",
     "output_type": "stream",
     "text": [
      "INFO:linopy.model: Solve problem using Highs solver\n",
      "INFO:linopy.io:Writing objective.\n",
      "Writing constraints.: 100%|\u001b[38;2;128;191;255m██████████\u001b[0m| 17/17 [00:00<00:00, 70.54it/s]\n",
      "Writing continuous variables.: 100%|\u001b[38;2;128;191;255m██████████\u001b[0m| 8/8 [00:00<00:00, 169.99it/s]\n",
      "Writing integer variables.: 100%|\u001b[38;2;128;191;255m██████████\u001b[0m| 1/1 [00:00<00:00, 730.33it/s]\n",
      "INFO:linopy.io: Writing time: 0.31s\n",
      "INFO:linopy.solvers:Log file at /tmp/highs.log\n"
     ]
    },
    {
     "name": "stdout",
     "output_type": "stream",
     "text": [
      "Running HiGHS 1.7.2 (git hash: 184e327): Copyright (c) 2024 HiGHS under MIT licence terms\n",
      "Coefficient ranges:\n",
      "  Matrix [3e-08, 5e+00]\n",
      "  Cost   [1e+02, 2e+06]\n",
      "  Bound  [0e+00, 0e+00]\n",
      "  RHS    [6e+02, 7e+05]\n",
      "Presolving model\n",
      "27787 rows, 24870 cols, 74598 nonzeros  0s\n",
      "22250 rows, 19333 cols, 68896 nonzeros  0s\n",
      "21691 rows, 18774 cols, 71126 nonzeros  0s\n",
      "\n",
      "Solving MIP model with:\n",
      "   21691 rows\n",
      "   18774 cols (0 binary, 2 integer, 0 implied int., 18772 continuous)\n",
      "   71126 nonzeros\n",
      "\n",
      "        Nodes      |    B&B Tree     |            Objective Bounds              |  Dynamic Constraints |       Work      \n",
      "     Proc. InQueue |  Leaves   Expl. | BestBound       BestSol              Gap |   Cuts   InLp Confl. | LpIters     Time\n",
      "\n",
      "         0       0         0   0.00%   -inf            inf                  inf        0      0      0         0     0.3s\n",
      " S       0       0         0   0.00%   -inf            6512180514.269     Large        0      0      0         0     9.6s\n",
      " R       0       0         0   0.00%   6508457784.284  6508465376.809     0.00%        0      0      0     26047    12.0s\n",
      "\n",
      "Solving report\n",
      "  Status            Optimal\n",
      "  Primal bound      6508465376.81\n",
      "  Dual bound        6508457784.28\n",
      "  Gap               0.000117% (tolerance: 0.01%)\n",
      "  Solution status   feasible\n",
      "                    6508465376.81 (objective)\n",
      "                    0 (bound viol.)\n",
      "                    0 (int. viol.)\n",
      "                    0 (row viol.)\n",
      "  Timing            12.04 (total)\n",
      "                    0.24 (presolve)\n",
      "                    0.00 (postsolve)\n",
      "  Nodes             1\n",
      "  LP iterations     26047 (total)\n",
      "                    0 (strong br.)\n",
      "                    0 (separation)\n",
      "                    0 (heuristics)\n",
      "Writing the solution to /tmp/linopy-solve-vrjo8xiy.sol\n"
     ]
    },
    {
     "name": "stderr",
     "output_type": "stream",
     "text": [
      "INFO:linopy.constants: Optimization successful: \n",
      "Status: ok\n",
      "Termination condition: optimal\n",
      "Solution: 26290 primals, 58412 duals\n",
      "Objective: 6.51e+09\n",
      "Solver model: available\n",
      "Solver message: optimal\n",
      "\n",
      "INFO:pypsa.optimization.optimize:The shadow-prices of the constraints Generator-ext-p-lower, Generator-ext-p-upper, Link-ext-p-lower, Link-ext-p-upper, Store-ext-e-lower, Store-ext-e-upper, Store-energy_balance, self_sufficiency_constraint were not assigned to the network.\n",
      "INFO:pypsa.io:Exported network 'network.nc' contains: buses, loads, links, generators, stores, carriers\n",
      "INFO:pypsa.io:Imported network network.nc has buses, carriers, generators, links, loads, stores\n"
     ]
    },
    {
     "name": "stdout",
     "output_type": "stream",
     "text": [
      "7 out of 24: ('Western Cape', 2030, 0.75, -0.2, False, False, 0)\n",
      "Check the get_geo(config) function\n",
      "Create and store parameters\n",
      "Check weather files\n",
      "Check renewables data\n",
      "Renewables files do not exist for geography Western Cape. Please see /input/renewables/generate-renewables.ipynb\n",
      "Create and store demand\n",
      "Create and store network\n",
      "Using config:\n",
      "\tself-sufficiency:0.75\n",
      "\th2:False\n",
      "\toffwind:True\n",
      "\tbiogas:0\n"
     ]
    },
    {
     "name": "stderr",
     "output_type": "stream",
     "text": [
      "INFO:pypsa.io:Exported network 'network.nc' contains: buses, loads, links, generators, stores, carriers\n"
     ]
    },
    {
     "name": "stdout",
     "output_type": "stream",
     "text": [
      "Run optimization\n"
     ]
    },
    {
     "name": "stderr",
     "output_type": "stream",
     "text": [
      "INFO:pypsa.io:Imported network network.nc has buses, carriers, generators, links, loads, stores\n",
      "INFO:linopy.model: Solve problem using Highs solver\n",
      "INFO:linopy.io:Writing objective.\n",
      "Writing constraints.: 100%|\u001b[38;2;128;191;255m██████████\u001b[0m| 17/17 [00:00<00:00, 52.92it/s]\n",
      "Writing continuous variables.: 100%|\u001b[38;2;128;191;255m██████████\u001b[0m| 8/8 [00:00<00:00, 135.16it/s]\n",
      "Writing integer variables.: 100%|\u001b[38;2;128;191;255m██████████\u001b[0m| 1/1 [00:00<00:00, 647.47it/s]\n",
      "INFO:linopy.io: Writing time: 0.41s\n",
      "INFO:linopy.solvers:Log file at /tmp/highs.log\n"
     ]
    },
    {
     "name": "stdout",
     "output_type": "stream",
     "text": [
      "Running HiGHS 1.7.2 (git hash: 184e327): Copyright (c) 2024 HiGHS under MIT licence terms\n"
     ]
    },
    {
     "name": "stderr",
     "output_type": "stream",
     "text": [
      "INFO:linopy.constants: Optimization successful: \n",
      "Status: ok\n",
      "Termination condition: optimal\n",
      "Solution: 29212 primals, 64254 duals\n",
      "Objective: 6.51e+09\n",
      "Solver model: available\n",
      "Solver message: optimal\n",
      "\n"
     ]
    },
    {
     "name": "stdout",
     "output_type": "stream",
     "text": [
      "Coefficient ranges:\n",
      "  Matrix [3e-08, 2e+01]\n",
      "  Cost   [1e+02, 3e+06]\n",
      "  Bound  [0e+00, 0e+00]\n",
      "  RHS    [6e+02, 7e+05]\n",
      "Presolving model\n",
      "30707 rows, 27791 cols, 83358 nonzeros  0s\n",
      "26061 rows, 23145 cols, 82210 nonzeros  0s\n",
      "26061 rows, 23145 cols, 82210 nonzeros  0s\n",
      "\n",
      "Solving MIP model with:\n",
      "   26061 rows\n",
      "   23145 cols (0 binary, 3 integer, 0 implied int., 23142 continuous)\n",
      "   82210 nonzeros\n",
      "\n",
      "        Nodes      |    B&B Tree     |            Objective Bounds              |  Dynamic Constraints |       Work      \n",
      "     Proc. InQueue |  Leaves   Expl. | BestBound       BestSol              Gap |   Cuts   InLp Confl. | LpIters     Time\n",
      "\n",
      "         0       0         0   0.00%   -inf            inf                  inf        0      0      0         0     0.1s\n",
      " S       0       0         0   0.00%   -inf            6548587665.206     Large        0      0      0         0    16.7s\n",
      " R       0       0         0   0.00%   6507587649.115  6508411211.315     0.01%        0      0      0     36697    20.0s\n",
      "         0       0         0   0.00%   6507587653.968  6508411211.315     0.01%        2      1      0     36698    25.6s\n",
      "         0       0         0   0.00%   6507587653.968  6508411211.315     0.01%        2      1      0     36698    33.2s\n",
      " L       0       0         0   0.00%   6507587653.968  6507636935.191     0.00%        2      1      0     36698    72.6s\n",
      "\n",
      "Solving report\n",
      "  Status            Optimal\n",
      "  Primal bound      6507636935.19\n",
      "  Dual bound        6507587653.97\n",
      "  Gap               0.000757% (tolerance: 0.01%)\n",
      "  Solution status   feasible\n",
      "                    6507636935.19 (objective)\n",
      "                    0 (bound viol.)\n",
      "                    0 (int. viol.)\n",
      "                    0 (row viol.)\n",
      "  Timing            72.59 (total)\n",
      "                    0.13 (presolve)\n",
      "                    0.00 (postsolve)\n",
      "  Nodes             1\n",
      "  LP iterations     53247 (total)\n",
      "                    0 (strong br.)\n",
      "                    1 (separation)\n",
      "                    16549 (heuristics)\n",
      "Writing the solution to /tmp/linopy-solve-io165d0b.sol\n"
     ]
    },
    {
     "name": "stderr",
     "output_type": "stream",
     "text": [
      "INFO:pypsa.optimization.optimize:The shadow-prices of the constraints Generator-ext-p-lower, Generator-ext-p-upper, Link-ext-p-lower, Link-ext-p-upper, Store-ext-e-lower, Store-ext-e-upper, Store-energy_balance, self_sufficiency_constraint were not assigned to the network.\n",
      "INFO:pypsa.io:Exported network 'network.nc' contains: buses, loads, links, generators, stores, carriers\n",
      "INFO:pypsa.io:Imported network network.nc has buses, carriers, generators, links, loads, stores\n"
     ]
    },
    {
     "name": "stdout",
     "output_type": "stream",
     "text": [
      "8 out of 24: ('Western Cape', 2030, 0.75, -0.2, False, True, 0)\n",
      "Check the get_geo(config) function\n",
      "Create and store parameters\n",
      "Check weather files\n",
      "Check renewables data\n",
      "Renewables files do not exist for geography Western Cape. Please see /input/renewables/generate-renewables.ipynb\n",
      "Create and store demand\n",
      "Create and store network\n",
      "Using config:\n",
      "\tself-sufficiency:0.75\n",
      "\th2:False\n",
      "\toffwind:False\n",
      "\tbiogas:0\n"
     ]
    },
    {
     "name": "stderr",
     "output_type": "stream",
     "text": [
      "INFO:pypsa.io:Exported network 'network.nc' contains: buses, loads, links, generators, stores, carriers\n"
     ]
    },
    {
     "name": "stdout",
     "output_type": "stream",
     "text": [
      "Run optimization\n"
     ]
    },
    {
     "name": "stderr",
     "output_type": "stream",
     "text": [
      "INFO:pypsa.io:Imported network network.nc has buses, carriers, generators, links, loads, stores\n",
      "INFO:linopy.model: Solve problem using Highs solver\n",
      "INFO:linopy.io:Writing objective.\n",
      "Writing constraints.: 100%|\u001b[38;2;128;191;255m██████████\u001b[0m| 17/17 [00:00<00:00, 51.10it/s]\n",
      "Writing continuous variables.: 100%|\u001b[38;2;128;191;255m██████████\u001b[0m| 8/8 [00:00<00:00, 133.03it/s]\n",
      "Writing integer variables.: 100%|\u001b[38;2;128;191;255m██████████\u001b[0m| 1/1 [00:00<00:00, 756.82it/s]\n",
      "INFO:linopy.io: Writing time: 0.42s\n",
      "INFO:linopy.solvers:Log file at /tmp/highs.log\n"
     ]
    },
    {
     "name": "stdout",
     "output_type": "stream",
     "text": [
      "Running HiGHS 1.7.2 (git hash: 184e327): Copyright (c) 2024 HiGHS under MIT licence terms\n",
      "Coefficient ranges:\n",
      "  Matrix [3e-08, 5e+00]\n"
     ]
    },
    {
     "name": "stderr",
     "output_type": "stream",
     "text": [
      "INFO:linopy.constants: Optimization successful: \n",
      "Status: ok\n",
      "Termination condition: optimal\n",
      "Solution: 26290 primals, 58412 duals\n",
      "Objective: 8.14e+09\n",
      "Solver model: available\n",
      "Solver message: optimal\n",
      "\n",
      "INFO:pypsa.optimization.optimize:The shadow-prices of the constraints Generator-ext-p-lower, Generator-ext-p-upper, Link-ext-p-lower, Link-ext-p-upper, Store-ext-e-lower, Store-ext-e-upper, Store-energy_balance, self_sufficiency_constraint were not assigned to the network.\n"
     ]
    },
    {
     "name": "stdout",
     "output_type": "stream",
     "text": [
      "  Cost   [1e+02, 2e+06]\n",
      "  Bound  [0e+00, 0e+00]\n",
      "  RHS    [7e+02, 8e+05]\n",
      "Presolving model\n",
      "27787 rows, 24870 cols, 74598 nonzeros  0s\n",
      "22250 rows, 19333 cols, 68896 nonzeros  0s\n",
      "21691 rows, 18774 cols, 71126 nonzeros  0s\n",
      "\n",
      "Solving MIP model with:\n",
      "   21691 rows\n",
      "   18774 cols (0 binary, 2 integer, 0 implied int., 18772 continuous)\n",
      "   71126 nonzeros\n",
      "\n",
      "        Nodes      |    B&B Tree     |            Objective Bounds              |  Dynamic Constraints |       Work      \n",
      "     Proc. InQueue |  Leaves   Expl. | BestBound       BestSol              Gap |   Cuts   InLp Confl. | LpIters     Time\n",
      "\n",
      "         0       0         0   0.00%   -inf            inf                  inf        0      0      0         0     0.2s\n",
      " S       0       0         0   0.00%   -inf            8142140767.968     Large        0      0      0         0    12.0s\n",
      " R       0       0         0   0.00%   8135572230.355  8135587888.204     0.00%        0      0      0     23544    14.5s\n",
      "\n",
      "Solving report\n",
      "  Status            Optimal\n",
      "  Primal bound      8135587888.2\n",
      "  Dual bound        8135572230.36\n",
      "  Gap               0.000192% (tolerance: 0.01%)\n",
      "  Solution status   feasible\n",
      "                    8135587888.2 (objective)\n",
      "                    0 (bound viol.)\n",
      "                    0 (int. viol.)\n",
      "                    0 (row viol.)\n",
      "  Timing            14.54 (total)\n",
      "                    0.14 (presolve)\n",
      "                    0.00 (postsolve)\n",
      "  Nodes             1\n",
      "  LP iterations     23544 (total)\n",
      "                    0 (strong br.)\n",
      "                    0 (separation)\n",
      "                    0 (heuristics)\n",
      "Writing the solution to /tmp/linopy-solve-w5_jsttb.sol\n"
     ]
    },
    {
     "name": "stderr",
     "output_type": "stream",
     "text": [
      "INFO:pypsa.io:Exported network 'network.nc' contains: buses, loads, links, generators, stores, carriers\n",
      "INFO:pypsa.io:Imported network network.nc has buses, carriers, generators, links, loads, stores\n"
     ]
    },
    {
     "name": "stdout",
     "output_type": "stream",
     "text": [
      "9 out of 24: ('Western Cape', 2030, 0.75, 0, False, False, 0)\n",
      "Check the get_geo(config) function\n",
      "Create and store parameters\n",
      "Check weather files\n",
      "Check renewables data\n",
      "Renewables files do not exist for geography Western Cape. Please see /input/renewables/generate-renewables.ipynb\n",
      "Create and store demand\n",
      "Create and store network\n",
      "Using config:\n",
      "\tself-sufficiency:0.75\n",
      "\th2:False\n",
      "\toffwind:True\n",
      "\tbiogas:0\n"
     ]
    },
    {
     "name": "stderr",
     "output_type": "stream",
     "text": [
      "INFO:pypsa.io:Exported network 'network.nc' contains: buses, loads, links, generators, stores, carriers\n"
     ]
    },
    {
     "name": "stdout",
     "output_type": "stream",
     "text": [
      "Run optimization\n"
     ]
    },
    {
     "name": "stderr",
     "output_type": "stream",
     "text": [
      "INFO:pypsa.io:Imported network network.nc has buses, carriers, generators, links, loads, stores\n",
      "INFO:linopy.model: Solve problem using Highs solver\n",
      "INFO:linopy.io:Writing objective.\n",
      "Writing constraints.: 100%|\u001b[38;2;128;191;255m██████████\u001b[0m| 17/17 [00:00<00:00, 48.97it/s]\n",
      "Writing continuous variables.: 100%|\u001b[38;2;128;191;255m██████████\u001b[0m| 8/8 [00:00<00:00, 120.51it/s]\n",
      "Writing integer variables.: 100%|\u001b[38;2;128;191;255m██████████\u001b[0m| 1/1 [00:00<00:00, 586.12it/s]\n",
      "INFO:linopy.io: Writing time: 0.45s\n",
      "INFO:linopy.solvers:Log file at /tmp/highs.log\n"
     ]
    },
    {
     "name": "stdout",
     "output_type": "stream",
     "text": [
      "Running HiGHS 1.7.2 (git hash: 184e327): Copyright (c) 2024 HiGHS under MIT licence terms\n",
      "Coefficient ranges:\n",
      "  Matrix [3e-08, 2e+01]\n",
      "  Cost   [1e+02, 3e+06]\n",
      "  Bound  [0e+00, 0e+00]\n",
      "  RHS    [7e+02, 8e+05]\n",
      "Presolving model\n",
      "30707 rows, 27791 cols, 83358 nonzeros  0s\n",
      "26061 rows, 23145 cols, 82210 nonzeros  0s\n",
      "26061 rows, 23145 cols, 82210 nonzeros  0s\n",
      "\n",
      "Solving MIP model with:\n",
      "   26061 rows\n",
      "   23145 cols (0 binary, 3 integer, 0 implied int., 23142 continuous)\n",
      "   82210 nonzeros\n",
      "\n",
      "        Nodes      |    B&B Tree     |            Objective Bounds              |  Dynamic Constraints |       Work      \n",
      "     Proc. InQueue |  Leaves   Expl. | BestBound       BestSol              Gap |   Cuts   InLp Confl. | LpIters     Time\n",
      "\n",
      "         0       0         0   0.00%   -inf            inf                  inf        0      0      0         0     0.2s\n",
      " S       0       0         0   0.00%   -inf            8160458265.388     Large        0      0      0         0    20.5s\n",
      " R       0       0         0   0.00%   8134484561.395  8134790838.86      0.00%        0      0      0     38929    24.6s\n",
      "\n",
      "Solving report\n",
      "  Status            Optimal\n",
      "  Primal bound      8134790838.86\n",
      "  Dual bound        8134484561.39\n",
      "  Gap               0.00377% (tolerance: 0.01%)\n",
      "  Solution status   feasible\n",
      "                    8134790838.86 (objective)\n",
      "                    0 (bound viol.)\n",
      "                    0 (int. viol.)\n",
      "                    0 (row viol.)\n",
      "  Timing            24.58 (total)\n",
      "                    0.15 (presolve)\n",
      "                    0.00 (postsolve)\n",
      "  Nodes             1\n",
      "  LP iterations     38929 (total)\n",
      "                    0 (strong br.)\n",
      "                    0 (separation)\n",
      "                    0 (heuristics)\n",
      "Writing the solution to /tmp/linopy-solve-_5x5opb_.sol\n"
     ]
    },
    {
     "name": "stderr",
     "output_type": "stream",
     "text": [
      "INFO:linopy.constants: Optimization successful: \n",
      "Status: ok\n",
      "Termination condition: optimal\n",
      "Solution: 29212 primals, 64254 duals\n",
      "Objective: 8.13e+09\n",
      "Solver model: available\n",
      "Solver message: optimal\n",
      "\n",
      "INFO:pypsa.optimization.optimize:The shadow-prices of the constraints Generator-ext-p-lower, Generator-ext-p-upper, Link-ext-p-lower, Link-ext-p-upper, Store-ext-e-lower, Store-ext-e-upper, Store-energy_balance, self_sufficiency_constraint were not assigned to the network.\n",
      "INFO:pypsa.io:Exported network 'network.nc' contains: buses, loads, links, generators, stores, carriers\n",
      "INFO:pypsa.io:Imported network network.nc has buses, carriers, generators, links, loads, stores\n"
     ]
    },
    {
     "name": "stdout",
     "output_type": "stream",
     "text": [
      "10 out of 24: ('Western Cape', 2030, 0.75, 0, False, True, 0)\n",
      "Check the get_geo(config) function\n",
      "Create and store parameters\n",
      "Check weather files\n",
      "Check renewables data\n",
      "Renewables files do not exist for geography Western Cape. Please see /input/renewables/generate-renewables.ipynb\n",
      "Create and store demand\n",
      "Create and store network\n",
      "Using config:\n",
      "\tself-sufficiency:0.75\n",
      "\th2:False\n",
      "\toffwind:False\n",
      "\tbiogas:0\n"
     ]
    },
    {
     "name": "stderr",
     "output_type": "stream",
     "text": [
      "INFO:pypsa.io:Exported network 'network.nc' contains: buses, loads, links, generators, stores, carriers\n"
     ]
    },
    {
     "name": "stdout",
     "output_type": "stream",
     "text": [
      "Run optimization\n"
     ]
    },
    {
     "name": "stderr",
     "output_type": "stream",
     "text": [
      "INFO:pypsa.io:Imported network network.nc has buses, carriers, generators, links, loads, stores\n",
      "INFO:linopy.model: Solve problem using Highs solver\n",
      "INFO:linopy.io:Writing objective.\n",
      "Writing constraints.: 100%|\u001b[38;2;128;191;255m██████████\u001b[0m| 17/17 [00:00<00:00, 42.92it/s]\n",
      "Writing continuous variables.: 100%|\u001b[38;2;128;191;255m██████████\u001b[0m| 8/8 [00:00<00:00, 106.97it/s]\n",
      "Writing integer variables.: 100%|\u001b[38;2;128;191;255m██████████\u001b[0m| 1/1 [00:00<00:00, 559.84it/s]\n",
      "INFO:linopy.io: Writing time: 0.5s\n",
      "INFO:linopy.solvers:Log file at /tmp/highs.log\n"
     ]
    },
    {
     "name": "stdout",
     "output_type": "stream",
     "text": [
      "Running HiGHS 1.7.2 (git hash: 184e327): Copyright (c) 2024 HiGHS under MIT licence terms\n",
      "Coefficient ranges:\n",
      "  Matrix [3e-08, 5e+00]\n",
      "  Cost   [1e+02, 2e+06]\n",
      "  Bound  [0e+00, 0e+00]\n",
      "  RHS    [9e+02, 1e+06]\n",
      "Presolving model\n",
      "27787 rows, 24870 cols, 74598 nonzeros  0s\n",
      "22250 rows, 19333 cols, 68896 nonzeros  0s\n",
      "21691 rows, 18774 cols, 71126 nonzeros  0s\n",
      "\n",
      "Solving MIP model with:\n",
      "   21691 rows\n",
      "   18774 cols (0 binary, 2 integer, 0 implied int., 18772 continuous)\n",
      "   71126 nonzeros\n",
      "\n",
      "        Nodes      |    B&B Tree     |            Objective Bounds              |  Dynamic Constraints |       Work      \n",
      "     Proc. InQueue |  Leaves   Expl. | BestBound       BestSol              Gap |   Cuts   InLp Confl. | LpIters     Time\n",
      "\n",
      "         0       0         0   0.00%   -inf            inf                  inf        0      0      0         0     0.2s\n",
      " S       0       0         0   0.00%   -inf            9763946390.609     Large        0      0      0         0    15.6s\n",
      " R       0       0         0   0.00%   9762686676.424  9762688024.136     0.00%        0      0      0     25162    18.4s\n",
      "\n",
      "Solving report\n",
      "  Status            Optimal\n",
      "  Primal bound      9762688024.14\n",
      "  Dual bound        9762686676.42\n",
      "  Gap               1.4e-05% (tolerance: 0.01%)\n",
      "  Solution status   feasible\n",
      "                    9762688024.14 (objective)\n",
      "                    0 (bound viol.)\n",
      "                    0 (int. viol.)\n",
      "                    0 (row viol.)\n",
      "  Timing            18.36 (total)\n",
      "                    0.22 (presolve)\n",
      "                    0.00 (postsolve)\n",
      "  Nodes             1\n",
      "  LP iterations     25162 (total)\n",
      "                    0 (strong br.)\n",
      "                    0 (separation)\n",
      "                    0 (heuristics)\n",
      "Writing the solution to /tmp/linopy-solve-zwyigc_i.sol\n"
     ]
    },
    {
     "name": "stderr",
     "output_type": "stream",
     "text": [
      "INFO:linopy.constants: Optimization successful: \n",
      "Status: ok\n",
      "Termination condition: optimal\n",
      "Solution: 26290 primals, 58412 duals\n",
      "Objective: 9.76e+09\n",
      "Solver model: available\n",
      "Solver message: optimal\n",
      "\n",
      "INFO:pypsa.optimization.optimize:The shadow-prices of the constraints Generator-ext-p-lower, Generator-ext-p-upper, Link-ext-p-lower, Link-ext-p-upper, Store-ext-e-lower, Store-ext-e-upper, Store-energy_balance, self_sufficiency_constraint were not assigned to the network.\n",
      "INFO:pypsa.io:Exported network 'network.nc' contains: buses, loads, links, generators, stores, carriers\n",
      "INFO:pypsa.io:Imported network network.nc has buses, carriers, generators, links, loads, stores\n"
     ]
    },
    {
     "name": "stdout",
     "output_type": "stream",
     "text": [
      "11 out of 24: ('Western Cape', 2030, 0.75, 0.2, False, False, 0)\n",
      "Check the get_geo(config) function\n",
      "Create and store parameters\n",
      "Check weather files\n",
      "Check renewables data\n",
      "Renewables files do not exist for geography Western Cape. Please see /input/renewables/generate-renewables.ipynb\n",
      "Create and store demand\n",
      "Create and store network\n",
      "Using config:\n",
      "\tself-sufficiency:0.75\n",
      "\th2:False\n",
      "\toffwind:True\n",
      "\tbiogas:0\n"
     ]
    },
    {
     "name": "stderr",
     "output_type": "stream",
     "text": [
      "INFO:pypsa.io:Exported network 'network.nc' contains: buses, loads, links, generators, stores, carriers\n"
     ]
    },
    {
     "name": "stdout",
     "output_type": "stream",
     "text": [
      "Run optimization\n"
     ]
    },
    {
     "name": "stderr",
     "output_type": "stream",
     "text": [
      "INFO:pypsa.io:Imported network network.nc has buses, carriers, generators, links, loads, stores\n",
      "INFO:linopy.model: Solve problem using Highs solver\n",
      "INFO:linopy.io:Writing objective.\n",
      "Writing constraints.: 100%|\u001b[38;2;128;191;255m██████████\u001b[0m| 17/17 [00:00<00:00, 36.48it/s]\n",
      "Writing continuous variables.: 100%|\u001b[38;2;128;191;255m██████████\u001b[0m| 8/8 [00:00<00:00, 114.20it/s]\n",
      "Writing integer variables.: 100%|\u001b[38;2;128;191;255m██████████\u001b[0m| 1/1 [00:00<00:00, 651.80it/s]\n",
      "INFO:linopy.io: Writing time: 0.59s\n",
      "INFO:linopy.solvers:Log file at /tmp/highs.log\n"
     ]
    },
    {
     "name": "stdout",
     "output_type": "stream",
     "text": [
      "Running HiGHS 1.7.2 (git hash: 184e327): Copyright (c) 2024 HiGHS under MIT licence terms\n",
      "Coefficient ranges:\n",
      "  Matrix [3e-08, 2e+01]\n",
      "  Cost   [1e+02, 3e+06]\n",
      "  Bound  [0e+00, 0e+00]\n",
      "  RHS    [9e+02, 1e+06]\n",
      "Presolving model\n",
      "30707 rows, 27791 cols, 83358 nonzeros  0s\n",
      "26061 rows, 23145 cols, 82210 nonzeros  0s\n",
      "26061 rows, 23145 cols, 82210 nonzeros  0s\n",
      "\n",
      "Solving MIP model with:\n",
      "   26061 rows\n",
      "   23145 cols (0 binary, 3 integer, 0 implied int., 23142 continuous)\n",
      "   82210 nonzeros\n",
      "\n",
      "        Nodes      |    B&B Tree     |            Objective Bounds              |  Dynamic Constraints |       Work      \n",
      "     Proc. InQueue |  Leaves   Expl. | BestBound       BestSol              Gap |   Cuts   InLp Confl. | LpIters     Time\n",
      "\n",
      "         0       0         0   0.00%   -inf            inf                  inf        0      0      0         0     0.2s\n",
      " S       0       0         0   0.00%   -inf            9779495235.56      Large        0      0      0         0    19.7s\n",
      " R       0       0         0   0.00%   9761381473.671  9761533249.355     0.00%        0      0      0     37949    23.3s\n",
      "\n",
      "Solving report\n",
      "  Status            Optimal\n",
      "  Primal bound      9761533249.36\n",
      "  Dual bound        9761381473.67\n",
      "  Gap               0.00155% (tolerance: 0.01%)\n",
      "  Solution status   feasible\n",
      "                    9761533249.36 (objective)\n",
      "                    0 (bound viol.)\n",
      "                    0 (int. viol.)\n",
      "                    0 (row viol.)\n",
      "  Timing            23.34 (total)\n",
      "                    0.17 (presolve)\n",
      "                    0.00 (postsolve)\n",
      "  Nodes             1\n",
      "  LP iterations     37949 (total)\n",
      "                    0 (strong br.)\n",
      "                    0 (separation)\n",
      "                    0 (heuristics)\n"
     ]
    },
    {
     "name": "stderr",
     "output_type": "stream",
     "text": [
      "INFO:linopy.constants: Optimization successful: \n",
      "Status: ok\n",
      "Termination condition: optimal\n",
      "Solution: 29212 primals, 64254 duals\n",
      "Objective: 9.76e+09\n",
      "Solver model: available\n",
      "Solver message: optimal\n",
      "\n",
      "INFO:pypsa.optimization.optimize:The shadow-prices of the constraints Generator-ext-p-lower, Generator-ext-p-upper, Link-ext-p-lower, Link-ext-p-upper, Store-ext-e-lower, Store-ext-e-upper, Store-energy_balance, self_sufficiency_constraint were not assigned to the network.\n"
     ]
    },
    {
     "name": "stdout",
     "output_type": "stream",
     "text": [
      "Writing the solution to /tmp/linopy-solve-1mxy_bcv.sol\n"
     ]
    },
    {
     "name": "stderr",
     "output_type": "stream",
     "text": [
      "INFO:pypsa.io:Exported network 'network.nc' contains: buses, loads, links, generators, stores, carriers\n",
      "INFO:pypsa.io:Imported network network.nc has buses, carriers, generators, links, loads, stores\n"
     ]
    },
    {
     "name": "stdout",
     "output_type": "stream",
     "text": [
      "12 out of 24: ('Western Cape', 2030, 0.75, 0.2, False, True, 0)\n",
      "Check the get_geo(config) function\n",
      "Create and store parameters\n",
      "Check weather files\n",
      "Check renewables data\n",
      "Renewables files do not exist for geography Western Cape. Please see /input/renewables/generate-renewables.ipynb\n",
      "Create and store demand\n",
      "Create and store network\n",
      "Using config:\n",
      "\tself-sufficiency:0.5\n",
      "\th2:False\n",
      "\toffwind:False\n",
      "\tbiogas:0\n"
     ]
    },
    {
     "name": "stderr",
     "output_type": "stream",
     "text": [
      "INFO:pypsa.io:Exported network 'network.nc' contains: buses, loads, links, generators, stores, carriers\n"
     ]
    },
    {
     "name": "stdout",
     "output_type": "stream",
     "text": [
      "Run optimization\n"
     ]
    },
    {
     "name": "stderr",
     "output_type": "stream",
     "text": [
      "INFO:pypsa.io:Imported network network.nc has buses, carriers, generators, links, loads, stores\n",
      "INFO:linopy.model: Solve problem using Highs solver\n",
      "INFO:linopy.io:Writing objective.\n",
      "Writing constraints.: 100%|\u001b[38;2;128;191;255m██████████\u001b[0m| 17/17 [00:00<00:00, 49.34it/s]\n",
      "Writing continuous variables.: 100%|\u001b[38;2;128;191;255m██████████\u001b[0m| 8/8 [00:00<00:00, 100.18it/s]\n",
      "Writing integer variables.: 100%|\u001b[38;2;128;191;255m██████████\u001b[0m| 1/1 [00:00<00:00, 414.50it/s]\n",
      "INFO:linopy.io: Writing time: 0.46s\n",
      "INFO:linopy.solvers:Log file at /tmp/highs.log\n"
     ]
    },
    {
     "name": "stdout",
     "output_type": "stream",
     "text": [
      "Running HiGHS 1.7.2 (git hash: 184e327): Copyright (c) 2024 HiGHS under MIT licence terms\n"
     ]
    },
    {
     "name": "stderr",
     "output_type": "stream",
     "text": [
      "INFO:linopy.constants: Optimization successful: \n",
      "Status: ok\n",
      "Termination condition: optimal\n",
      "Solution: 26290 primals, 58412 duals\n",
      "Objective: 9.10e+09\n",
      "Solver model: available\n",
      "Solver message: optimal\n",
      "\n",
      "INFO:pypsa.optimization.optimize:The shadow-prices of the constraints Generator-ext-p-lower, Generator-ext-p-upper, Link-ext-p-lower, Link-ext-p-upper, Store-ext-e-lower, Store-ext-e-upper, Store-energy_balance, self_sufficiency_constraint were not assigned to the network.\n"
     ]
    },
    {
     "name": "stdout",
     "output_type": "stream",
     "text": [
      "Coefficient ranges:\n",
      "  Matrix [3e-08, 5e+00]\n",
      "  Cost   [1e+02, 2e+06]\n",
      "  Bound  [0e+00, 0e+00]\n",
      "  RHS    [9e+02, 2e+06]\n",
      "Presolving model\n",
      "27787 rows, 24870 cols, 74598 nonzeros  0s\n",
      "22250 rows, 19333 cols, 68896 nonzeros  0s\n",
      "21691 rows, 18774 cols, 71126 nonzeros  0s\n",
      "\n",
      "Solving MIP model with:\n",
      "   21691 rows\n",
      "   18774 cols (0 binary, 2 integer, 0 implied int., 18772 continuous)\n",
      "   71126 nonzeros\n",
      "\n",
      "        Nodes      |    B&B Tree     |            Objective Bounds              |  Dynamic Constraints |       Work      \n",
      "     Proc. InQueue |  Leaves   Expl. | BestBound       BestSol              Gap |   Cuts   InLp Confl. | LpIters     Time\n",
      "\n",
      "         0       0         0   0.00%   -inf            inf                  inf        0      0      0         0     0.2s\n",
      " S       0       0         0   0.00%   -inf            9101764807.206     Large        0      0      0         0     5.4s\n",
      " R       0       0         0   0.00%   9096399165.978  9096406968.144     0.00%        0      0      0     29613     5.4s\n",
      "\n",
      "Solving report\n",
      "  Status            Optimal\n",
      "  Primal bound      9096406968.14\n",
      "  Dual bound        9096399165.98\n",
      "  Gap               8.6e-05% (tolerance: 0.01%)\n",
      "  Solution status   feasible\n",
      "                    9096406968.14 (objective)\n",
      "                    0 (bound viol.)\n",
      "                    0 (int. viol.)\n",
      "                    0 (row viol.)\n",
      "  Timing            5.43 (total)\n",
      "                    0.15 (presolve)\n",
      "                    0.00 (postsolve)\n",
      "  Nodes             1\n",
      "  LP iterations     29613 (total)\n",
      "                    0 (strong br.)\n",
      "                    0 (separation)\n",
      "                    0 (heuristics)\n",
      "Writing the solution to /tmp/linopy-solve-oflrp_8s.sol\n"
     ]
    },
    {
     "name": "stderr",
     "output_type": "stream",
     "text": [
      "INFO:pypsa.io:Exported network 'network.nc' contains: buses, loads, links, generators, stores, carriers\n",
      "INFO:pypsa.io:Imported network network.nc has buses, carriers, generators, links, loads, stores\n"
     ]
    },
    {
     "name": "stdout",
     "output_type": "stream",
     "text": [
      "13 out of 24: ('Western Cape', 2035, 0.5, -0.2, False, False, 0)\n",
      "Check the get_geo(config) function\n",
      "Create and store parameters\n",
      "Check weather files\n",
      "Check renewables data\n",
      "Renewables files do not exist for geography Western Cape. Please see /input/renewables/generate-renewables.ipynb\n",
      "Create and store demand\n",
      "Create and store network\n",
      "Using config:\n",
      "\tself-sufficiency:0.5\n",
      "\th2:False\n",
      "\toffwind:True\n",
      "\tbiogas:0\n"
     ]
    },
    {
     "name": "stderr",
     "output_type": "stream",
     "text": [
      "INFO:pypsa.io:Exported network 'network.nc' contains: buses, loads, links, generators, stores, carriers\n"
     ]
    },
    {
     "name": "stdout",
     "output_type": "stream",
     "text": [
      "Run optimization\n"
     ]
    },
    {
     "name": "stderr",
     "output_type": "stream",
     "text": [
      "INFO:pypsa.io:Imported network network.nc has buses, carriers, generators, links, loads, stores\n",
      "INFO:linopy.model: Solve problem using Highs solver\n",
      "INFO:linopy.io:Writing objective.\n",
      "Writing constraints.: 100%|\u001b[38;2;128;191;255m██████████\u001b[0m| 17/17 [00:00<00:00, 41.53it/s]\n",
      "Writing continuous variables.: 100%|\u001b[38;2;128;191;255m██████████\u001b[0m| 8/8 [00:00<00:00, 123.05it/s]\n",
      "Writing integer variables.: 100%|\u001b[38;2;128;191;255m██████████\u001b[0m| 1/1 [00:00<00:00, 480.17it/s]\n",
      "INFO:linopy.io: Writing time: 0.51s\n",
      "INFO:linopy.solvers:Log file at /tmp/highs.log\n"
     ]
    },
    {
     "name": "stdout",
     "output_type": "stream",
     "text": [
      "Running HiGHS 1.7.2 (git hash: 184e327): Copyright (c) 2024 HiGHS under MIT licence terms\n",
      "Coefficient ranges:\n",
      "  Matrix [3e-08, 2e+01]\n",
      "  Cost   [1e+02, 3e+06]\n",
      "  Bound  [0e+00, 0e+00]\n",
      "  RHS    [9e+02, 2e+06]\n",
      "Presolving model\n",
      "30707 rows, 27791 cols, 83358 nonzeros  0s\n",
      "26061 rows, 23145 cols, 82210 nonzeros  0s\n",
      "26061 rows, 23145 cols, 82210 nonzeros  0s\n",
      "\n",
      "Solving MIP model with:\n",
      "   26061 rows\n",
      "   23145 cols (0 binary, 3 integer, 0 implied int., 23142 continuous)\n",
      "   82210 nonzeros\n",
      "\n",
      "        Nodes      |    B&B Tree     |            Objective Bounds              |  Dynamic Constraints |       Work      \n",
      "     Proc. InQueue |  Leaves   Expl. | BestBound       BestSol              Gap |   Cuts   InLp Confl. | LpIters     Time\n",
      "\n",
      "         0       0         0   0.00%   -inf            inf                  inf        0      0      0         0     0.2s\n",
      " S       0       0         0   0.00%   -inf            9101764807.206     Large        0      0      0         0    10.1s\n",
      " R       0       0         0   0.00%   9096399165.978  9096406968.144     0.00%        0      0      0     45603    10.2s\n",
      "\n",
      "Solving report\n",
      "  Status            Optimal\n",
      "  Primal bound      9096406968.14\n",
      "  Dual bound        9096399165.98\n",
      "  Gap               8.6e-05% (tolerance: 0.01%)\n",
      "  Solution status   feasible\n",
      "                    9096406968.14 (objective)\n",
      "                    0 (bound viol.)\n",
      "                    0 (int. viol.)\n",
      "                    0 (row viol.)\n",
      "  Timing            10.22 (total)\n",
      "                    0.15 (presolve)\n",
      "                    0.00 (postsolve)\n",
      "  Nodes             1\n",
      "  LP iterations     45603 (total)\n",
      "                    0 (strong br.)\n",
      "                    0 (separation)\n",
      "                    0 (heuristics)\n",
      "Writing the solution to /tmp/linopy-solve-owe7equ3.sol\n"
     ]
    },
    {
     "name": "stderr",
     "output_type": "stream",
     "text": [
      "INFO:linopy.constants: Optimization successful: \n",
      "Status: ok\n",
      "Termination condition: optimal\n",
      "Solution: 29212 primals, 64254 duals\n",
      "Objective: 9.10e+09\n",
      "Solver model: available\n",
      "Solver message: optimal\n",
      "\n",
      "INFO:pypsa.optimization.optimize:The shadow-prices of the constraints Generator-ext-p-lower, Generator-ext-p-upper, Link-ext-p-lower, Link-ext-p-upper, Store-ext-e-lower, Store-ext-e-upper, Store-energy_balance, self_sufficiency_constraint were not assigned to the network.\n",
      "INFO:pypsa.io:Exported network 'network.nc' contains: buses, loads, links, generators, stores, carriers\n",
      "INFO:pypsa.io:Imported network network.nc has buses, carriers, generators, links, loads, stores\n"
     ]
    },
    {
     "name": "stdout",
     "output_type": "stream",
     "text": [
      "14 out of 24: ('Western Cape', 2035, 0.5, -0.2, False, True, 0)\n",
      "Check the get_geo(config) function\n",
      "Create and store parameters\n",
      "Check weather files\n",
      "Check renewables data\n",
      "Renewables files do not exist for geography Western Cape. Please see /input/renewables/generate-renewables.ipynb\n",
      "Create and store demand\n",
      "Create and store network\n",
      "Using config:\n",
      "\tself-sufficiency:0.5\n",
      "\th2:False\n",
      "\toffwind:False\n",
      "\tbiogas:0\n"
     ]
    },
    {
     "name": "stderr",
     "output_type": "stream",
     "text": [
      "INFO:pypsa.io:Exported network 'network.nc' contains: buses, loads, links, generators, stores, carriers\n"
     ]
    },
    {
     "name": "stdout",
     "output_type": "stream",
     "text": [
      "Run optimization\n"
     ]
    },
    {
     "name": "stderr",
     "output_type": "stream",
     "text": [
      "INFO:pypsa.io:Imported network network.nc has buses, carriers, generators, links, loads, stores\n",
      "INFO:linopy.model: Solve problem using Highs solver\n",
      "INFO:linopy.io:Writing objective.\n",
      "Writing constraints.: 100%|\u001b[38;2;128;191;255m██████████\u001b[0m| 17/17 [00:00<00:00, 46.30it/s]\n",
      "Writing continuous variables.: 100%|\u001b[38;2;128;191;255m██████████\u001b[0m| 8/8 [00:00<00:00, 128.68it/s]\n",
      "Writing integer variables.: 100%|\u001b[38;2;128;191;255m██████████\u001b[0m| 1/1 [00:00<00:00, 537.94it/s]\n",
      "INFO:linopy.io: Writing time: 0.47s\n",
      "INFO:linopy.solvers:Log file at /tmp/highs.log\n"
     ]
    },
    {
     "name": "stdout",
     "output_type": "stream",
     "text": [
      "Running HiGHS 1.7.2 (git hash: 184e327): Copyright (c) 2024 HiGHS under MIT licence terms\n",
      "Coefficient ranges:\n",
      "  Matrix [3e-08, 5e+00]\n",
      "  Cost   [1e+02, 2e+06]\n",
      "  Bound  [0e+00, 0e+00]\n",
      "  RHS    [1e+03, 3e+06]\n"
     ]
    },
    {
     "name": "stderr",
     "output_type": "stream",
     "text": [
      "INFO:linopy.constants: Optimization successful: \n",
      "Status: ok\n",
      "Termination condition: optimal\n",
      "Solution: 26290 primals, 58412 duals\n",
      "Objective: 1.14e+10\n",
      "Solver model: available\n",
      "Solver message: optimal\n",
      "\n",
      "INFO:pypsa.optimization.optimize:The shadow-prices of the constraints Generator-ext-p-lower, Generator-ext-p-upper, Link-ext-p-lower, Link-ext-p-upper, Store-ext-e-lower, Store-ext-e-upper, Store-energy_balance, self_sufficiency_constraint were not assigned to the network.\n"
     ]
    },
    {
     "name": "stdout",
     "output_type": "stream",
     "text": [
      "Presolving model\n",
      "27787 rows, 24870 cols, 74598 nonzeros  0s\n",
      "22250 rows, 19333 cols, 68896 nonzeros  0s\n",
      "21691 rows, 18774 cols, 71126 nonzeros  0s\n",
      "\n",
      "Solving MIP model with:\n",
      "   21691 rows\n",
      "   18774 cols (0 binary, 2 integer, 0 implied int., 18772 continuous)\n",
      "   71126 nonzeros\n",
      "\n",
      "        Nodes      |    B&B Tree     |            Objective Bounds              |  Dynamic Constraints |       Work      \n",
      "     Proc. InQueue |  Leaves   Expl. | BestBound       BestSol              Gap |   Cuts   InLp Confl. | LpIters     Time\n",
      "\n",
      "         0       0         0   0.00%   -inf            inf                  inf        0      0      0         0     0.2s\n",
      " S       0       0         0   0.00%   -inf            11371251010.42     Large        0      0      0         0     5.7s\n",
      "\n",
      "Solving report\n",
      "  Status            Optimal\n",
      "  Primal bound      11371251010.4\n",
      "  Dual bound        11370498957.5\n",
      "  Gap               0.00661% (tolerance: 0.01%)\n",
      "  Solution status   feasible\n",
      "                    11371251010.4 (objective)\n",
      "                    0 (bound viol.)\n",
      "                    0 (int. viol.)\n",
      "                    0 (row viol.)\n",
      "  Timing            5.68 (total)\n",
      "                    0.19 (presolve)\n",
      "                    0.00 (postsolve)\n",
      "  Nodes             1\n",
      "  LP iterations     30992 (total)\n",
      "                    0 (strong br.)\n",
      "                    0 (separation)\n",
      "                    0 (heuristics)\n",
      "Writing the solution to /tmp/linopy-solve-xdrg88db.sol\n"
     ]
    },
    {
     "name": "stderr",
     "output_type": "stream",
     "text": [
      "INFO:pypsa.io:Exported network 'network.nc' contains: buses, loads, links, generators, stores, carriers\n",
      "INFO:pypsa.io:Imported network network.nc has buses, carriers, generators, links, loads, stores\n"
     ]
    },
    {
     "name": "stdout",
     "output_type": "stream",
     "text": [
      "15 out of 24: ('Western Cape', 2035, 0.5, 0, False, False, 0)\n",
      "Check the get_geo(config) function\n",
      "Create and store parameters\n",
      "Check weather files\n",
      "Check renewables data\n",
      "Renewables files do not exist for geography Western Cape. Please see /input/renewables/generate-renewables.ipynb\n",
      "Create and store demand\n",
      "Create and store network\n",
      "Using config:\n",
      "\tself-sufficiency:0.5\n",
      "\th2:False\n",
      "\toffwind:True\n",
      "\tbiogas:0\n"
     ]
    },
    {
     "name": "stderr",
     "output_type": "stream",
     "text": [
      "INFO:pypsa.io:Exported network 'network.nc' contains: buses, loads, links, generators, stores, carriers\n"
     ]
    },
    {
     "name": "stdout",
     "output_type": "stream",
     "text": [
      "Run optimization\n"
     ]
    },
    {
     "name": "stderr",
     "output_type": "stream",
     "text": [
      "INFO:pypsa.io:Imported network network.nc has buses, carriers, generators, links, loads, stores\n",
      "INFO:linopy.model: Solve problem using Highs solver\n",
      "INFO:linopy.io:Writing objective.\n",
      "Writing constraints.: 100%|\u001b[38;2;128;191;255m██████████\u001b[0m| 17/17 [00:00<00:00, 45.70it/s]\n",
      "Writing continuous variables.: 100%|\u001b[38;2;128;191;255m██████████\u001b[0m| 8/8 [00:00<00:00, 118.72it/s]\n",
      "Writing integer variables.: 100%|\u001b[38;2;128;191;255m██████████\u001b[0m| 1/1 [00:00<00:00, 291.11it/s]\n",
      "INFO:linopy.io: Writing time: 0.48s\n",
      "INFO:linopy.solvers:Log file at /tmp/highs.log\n"
     ]
    },
    {
     "name": "stdout",
     "output_type": "stream",
     "text": [
      "Running HiGHS 1.7.2 (git hash: 184e327): Copyright (c) 2024 HiGHS under MIT licence terms\n",
      "Coefficient ranges:\n",
      "  Matrix [3e-08, 2e+01]\n",
      "  Cost   [1e+02, 3e+06]\n",
      "  Bound  [0e+00, 0e+00]\n",
      "  RHS    [1e+03, 3e+06]\n"
     ]
    },
    {
     "name": "stderr",
     "output_type": "stream",
     "text": [
      "INFO:linopy.constants: Optimization successful: \n",
      "Status: ok\n",
      "Termination condition: optimal\n",
      "Solution: 29212 primals, 64254 duals\n",
      "Objective: 1.14e+10\n",
      "Solver model: available\n",
      "Solver message: optimal\n",
      "\n",
      "INFO:pypsa.optimization.optimize:The shadow-prices of the constraints Generator-ext-p-lower, Generator-ext-p-upper, Link-ext-p-lower, Link-ext-p-upper, Store-ext-e-lower, Store-ext-e-upper, Store-energy_balance, self_sufficiency_constraint were not assigned to the network.\n"
     ]
    },
    {
     "name": "stdout",
     "output_type": "stream",
     "text": [
      "Presolving model\n",
      "30707 rows, 27791 cols, 83358 nonzeros  0s\n",
      "26061 rows, 23145 cols, 82210 nonzeros  0s\n",
      "26061 rows, 23145 cols, 82210 nonzeros  0s\n",
      "\n",
      "Solving MIP model with:\n",
      "   26061 rows\n",
      "   23145 cols (0 binary, 3 integer, 0 implied int., 23142 continuous)\n",
      "   82210 nonzeros\n",
      "\n",
      "        Nodes      |    B&B Tree     |            Objective Bounds              |  Dynamic Constraints |       Work      \n",
      "     Proc. InQueue |  Leaves   Expl. | BestBound       BestSol              Gap |   Cuts   InLp Confl. | LpIters     Time\n",
      "\n",
      "         0       0         0   0.00%   -inf            inf                  inf        0      0      0         0     0.2s\n",
      " S       0       0         0   0.00%   -inf            11371251010.42     Large        0      0      0         0     9.4s\n",
      "\n",
      "Solving report\n",
      "  Status            Optimal\n",
      "  Primal bound      11371251010.4\n",
      "  Dual bound        11370498957.5\n",
      "  Gap               0.00661% (tolerance: 0.01%)\n",
      "  Solution status   feasible\n",
      "                    11371251010.4 (objective)\n",
      "                    0 (bound viol.)\n",
      "                    0 (int. viol.)\n",
      "                    0 (row viol.)\n",
      "  Timing            9.45 (total)\n",
      "                    0.14 (presolve)\n",
      "                    0.00 (postsolve)\n",
      "  Nodes             1\n",
      "  LP iterations     46621 (total)\n",
      "                    0 (strong br.)\n",
      "                    0 (separation)\n",
      "                    0 (heuristics)\n",
      "Writing the solution to /tmp/linopy-solve-_w54n67c.sol\n"
     ]
    },
    {
     "name": "stderr",
     "output_type": "stream",
     "text": [
      "INFO:pypsa.io:Exported network 'network.nc' contains: buses, loads, links, generators, stores, carriers\n",
      "INFO:pypsa.io:Imported network network.nc has buses, carriers, generators, links, loads, stores\n"
     ]
    },
    {
     "name": "stdout",
     "output_type": "stream",
     "text": [
      "16 out of 24: ('Western Cape', 2035, 0.5, 0, False, True, 0)\n",
      "Check the get_geo(config) function\n",
      "Create and store parameters\n",
      "Check weather files\n",
      "Check renewables data\n",
      "Renewables files do not exist for geography Western Cape. Please see /input/renewables/generate-renewables.ipynb\n",
      "Create and store demand\n",
      "Create and store network\n",
      "Using config:\n",
      "\tself-sufficiency:0.5\n",
      "\th2:False\n",
      "\toffwind:False\n",
      "\tbiogas:0\n"
     ]
    },
    {
     "name": "stderr",
     "output_type": "stream",
     "text": [
      "INFO:pypsa.io:Exported network 'network.nc' contains: buses, loads, links, generators, stores, carriers\n"
     ]
    },
    {
     "name": "stdout",
     "output_type": "stream",
     "text": [
      "Run optimization\n"
     ]
    },
    {
     "name": "stderr",
     "output_type": "stream",
     "text": [
      "INFO:pypsa.io:Imported network network.nc has buses, carriers, generators, links, loads, stores\n",
      "INFO:linopy.model: Solve problem using Highs solver\n",
      "INFO:linopy.io:Writing objective.\n",
      "Writing constraints.: 100%|\u001b[38;2;128;191;255m██████████\u001b[0m| 17/17 [00:00<00:00, 52.77it/s]\n",
      "Writing continuous variables.: 100%|\u001b[38;2;128;191;255m██████████\u001b[0m| 8/8 [00:00<00:00, 143.14it/s]\n",
      "Writing integer variables.: 100%|\u001b[38;2;128;191;255m██████████\u001b[0m| 1/1 [00:00<00:00, 600.56it/s]\n",
      "INFO:linopy.io: Writing time: 0.41s\n",
      "INFO:linopy.solvers:Log file at /tmp/highs.log\n"
     ]
    },
    {
     "name": "stdout",
     "output_type": "stream",
     "text": [
      "Running HiGHS 1.7.2 (git hash: 184e327): Copyright (c) 2024 HiGHS under MIT licence terms\n"
     ]
    },
    {
     "name": "stderr",
     "output_type": "stream",
     "text": [
      "INFO:linopy.constants: Optimization successful: \n",
      "Status: ok\n",
      "Termination condition: optimal\n",
      "Solution: 26290 primals, 58412 duals\n",
      "Objective: 1.36e+10\n",
      "Solver model: available\n",
      "Solver message: optimal\n",
      "\n",
      "INFO:pypsa.optimization.optimize:The shadow-prices of the constraints Generator-ext-p-lower, Generator-ext-p-upper, Link-ext-p-lower, Link-ext-p-upper, Store-ext-e-lower, Store-ext-e-upper, Store-energy_balance, self_sufficiency_constraint were not assigned to the network.\n"
     ]
    },
    {
     "name": "stdout",
     "output_type": "stream",
     "text": [
      "Coefficient ranges:\n",
      "  Matrix [3e-08, 5e+00]\n",
      "  Cost   [1e+02, 2e+06]\n",
      "  Bound  [0e+00, 0e+00]\n",
      "  RHS    [1e+03, 3e+06]\n",
      "Presolving model\n",
      "27787 rows, 24870 cols, 74598 nonzeros  0s\n",
      "22250 rows, 19333 cols, 68896 nonzeros  0s\n",
      "21691 rows, 18774 cols, 71126 nonzeros  0s\n",
      "\n",
      "Solving MIP model with:\n",
      "   21691 rows\n",
      "   18774 cols (0 binary, 2 integer, 0 implied int., 18772 continuous)\n",
      "   71126 nonzeros\n",
      "\n",
      "        Nodes      |    B&B Tree     |            Objective Bounds              |  Dynamic Constraints |       Work      \n",
      "     Proc. InQueue |  Leaves   Expl. | BestBound       BestSol              Gap |   Cuts   InLp Confl. | LpIters     Time\n",
      "\n",
      "         0       0         0   0.00%   -inf            inf                  inf        0      0      0         0     0.2s\n",
      " S       0       0         0   0.00%   -inf            13648988375.73     Large        0      0      0         0     4.6s\n",
      " R       0       0         0   0.00%   13644598748.97  13644604625.76     0.00%        0      0      0     27816     4.7s\n",
      "\n",
      "Solving report\n",
      "  Status            Optimal\n",
      "  Primal bound      13644604625.8\n",
      "  Dual bound        13644598749\n",
      "  Gap               4.3e-05% (tolerance: 0.01%)\n",
      "  Solution status   feasible\n",
      "                    13644604625.8 (objective)\n",
      "                    0 (bound viol.)\n",
      "                    0 (int. viol.)\n",
      "                    0 (row viol.)\n",
      "  Timing            4.67 (total)\n",
      "                    0.14 (presolve)\n",
      "                    0.00 (postsolve)\n",
      "  Nodes             1\n",
      "  LP iterations     27816 (total)\n",
      "                    0 (strong br.)\n",
      "                    0 (separation)\n",
      "                    0 (heuristics)\n",
      "Writing the solution to /tmp/linopy-solve-cgd30zgy.sol\n"
     ]
    },
    {
     "name": "stderr",
     "output_type": "stream",
     "text": [
      "INFO:pypsa.io:Exported network 'network.nc' contains: buses, loads, links, generators, stores, carriers\n",
      "INFO:pypsa.io:Imported network network.nc has buses, carriers, generators, links, loads, stores\n"
     ]
    },
    {
     "name": "stdout",
     "output_type": "stream",
     "text": [
      "17 out of 24: ('Western Cape', 2035, 0.5, 0.2, False, False, 0)\n",
      "Check the get_geo(config) function\n",
      "Create and store parameters\n",
      "Check weather files\n",
      "Check renewables data\n",
      "Renewables files do not exist for geography Western Cape. Please see /input/renewables/generate-renewables.ipynb\n",
      "Create and store demand\n",
      "Create and store network\n",
      "Using config:\n",
      "\tself-sufficiency:0.5\n",
      "\th2:False\n",
      "\toffwind:True\n",
      "\tbiogas:0\n"
     ]
    },
    {
     "name": "stderr",
     "output_type": "stream",
     "text": [
      "INFO:pypsa.io:Exported network 'network.nc' contains: buses, loads, links, generators, stores, carriers\n"
     ]
    },
    {
     "name": "stdout",
     "output_type": "stream",
     "text": [
      "Run optimization\n"
     ]
    },
    {
     "name": "stderr",
     "output_type": "stream",
     "text": [
      "INFO:pypsa.io:Imported network network.nc has buses, carriers, generators, links, loads, stores\n",
      "INFO:linopy.model: Solve problem using Highs solver\n",
      "INFO:linopy.io:Writing objective.\n",
      "Writing constraints.: 100%|\u001b[38;2;128;191;255m██████████\u001b[0m| 17/17 [00:00<00:00, 47.89it/s]\n",
      "Writing continuous variables.: 100%|\u001b[38;2;128;191;255m██████████\u001b[0m| 8/8 [00:00<00:00, 114.37it/s]\n",
      "Writing integer variables.: 100%|\u001b[38;2;128;191;255m██████████\u001b[0m| 1/1 [00:00<00:00, 564.89it/s]\n",
      "INFO:linopy.io: Writing time: 0.46s\n",
      "INFO:linopy.solvers:Log file at /tmp/highs.log\n"
     ]
    },
    {
     "name": "stdout",
     "output_type": "stream",
     "text": [
      "Running HiGHS 1.7.2 (git hash: 184e327): Copyright (c) 2024 HiGHS under MIT licence terms\n"
     ]
    },
    {
     "name": "stderr",
     "output_type": "stream",
     "text": [
      "INFO:linopy.constants: Optimization successful: \n",
      "Status: ok\n",
      "Termination condition: optimal\n",
      "Solution: 29212 primals, 64254 duals\n",
      "Objective: 1.36e+10\n",
      "Solver model: available\n",
      "Solver message: optimal\n",
      "\n",
      "INFO:pypsa.optimization.optimize:The shadow-prices of the constraints Generator-ext-p-lower, Generator-ext-p-upper, Link-ext-p-lower, Link-ext-p-upper, Store-ext-e-lower, Store-ext-e-upper, Store-energy_balance, self_sufficiency_constraint were not assigned to the network.\n"
     ]
    },
    {
     "name": "stdout",
     "output_type": "stream",
     "text": [
      "Coefficient ranges:\n",
      "  Matrix [3e-08, 2e+01]\n",
      "  Cost   [1e+02, 3e+06]\n",
      "  Bound  [0e+00, 0e+00]\n",
      "  RHS    [1e+03, 3e+06]\n",
      "Presolving model\n",
      "30707 rows, 27791 cols, 83358 nonzeros  0s\n",
      "26061 rows, 23145 cols, 82210 nonzeros  0s\n",
      "26061 rows, 23145 cols, 82210 nonzeros  0s\n",
      "\n",
      "Solving MIP model with:\n",
      "   26061 rows\n",
      "   23145 cols (0 binary, 3 integer, 0 implied int., 23142 continuous)\n",
      "   82210 nonzeros\n",
      "\n",
      "        Nodes      |    B&B Tree     |            Objective Bounds              |  Dynamic Constraints |       Work      \n",
      "     Proc. InQueue |  Leaves   Expl. | BestBound       BestSol              Gap |   Cuts   InLp Confl. | LpIters     Time\n",
      "\n",
      "         0       0         0   0.00%   -inf            inf                  inf        0      0      0         0     0.2s\n",
      " S       0       0         0   0.00%   -inf            13648988375.73     Large        0      0      0         0     9.1s\n",
      " R       0       0         0   0.00%   13644598748.97  13644604625.76     0.00%        0      0      0     46027     9.3s\n",
      "\n",
      "Solving report\n",
      "  Status            Optimal\n",
      "  Primal bound      13644604625.8\n",
      "  Dual bound        13644598749\n",
      "  Gap               4.3e-05% (tolerance: 0.01%)\n",
      "  Solution status   feasible\n",
      "                    13644604625.8 (objective)\n",
      "                    0 (bound viol.)\n",
      "                    0 (int. viol.)\n",
      "                    0 (row viol.)\n",
      "  Timing            9.27 (total)\n",
      "                    0.16 (presolve)\n",
      "                    0.00 (postsolve)\n",
      "  Nodes             1\n",
      "  LP iterations     46027 (total)\n",
      "                    0 (strong br.)\n",
      "                    0 (separation)\n",
      "                    0 (heuristics)\n",
      "Writing the solution to /tmp/linopy-solve-jjdcjjnc.sol\n"
     ]
    },
    {
     "name": "stderr",
     "output_type": "stream",
     "text": [
      "INFO:pypsa.io:Exported network 'network.nc' contains: buses, loads, links, generators, stores, carriers\n",
      "INFO:pypsa.io:Imported network network.nc has buses, carriers, generators, links, loads, stores\n"
     ]
    },
    {
     "name": "stdout",
     "output_type": "stream",
     "text": [
      "18 out of 24: ('Western Cape', 2035, 0.5, 0.2, False, True, 0)\n",
      "Check the get_geo(config) function\n",
      "Create and store parameters\n",
      "Check weather files\n",
      "Check renewables data\n",
      "Renewables files do not exist for geography Western Cape. Please see /input/renewables/generate-renewables.ipynb\n",
      "Create and store demand\n",
      "Create and store network\n",
      "Using config:\n",
      "\tself-sufficiency:0.75\n",
      "\th2:False\n",
      "\toffwind:False\n",
      "\tbiogas:0\n"
     ]
    },
    {
     "name": "stderr",
     "output_type": "stream",
     "text": [
      "INFO:pypsa.io:Exported network 'network.nc' contains: buses, loads, links, generators, stores, carriers\n"
     ]
    },
    {
     "name": "stdout",
     "output_type": "stream",
     "text": [
      "Run optimization\n"
     ]
    },
    {
     "name": "stderr",
     "output_type": "stream",
     "text": [
      "INFO:pypsa.io:Imported network network.nc has buses, carriers, generators, links, loads, stores\n",
      "INFO:linopy.model: Solve problem using Highs solver\n",
      "INFO:linopy.io:Writing objective.\n",
      "Writing constraints.: 100%|\u001b[38;2;128;191;255m██████████\u001b[0m| 17/17 [00:00<00:00, 53.07it/s]\n",
      "Writing continuous variables.: 100%|\u001b[38;2;128;191;255m██████████\u001b[0m| 8/8 [00:00<00:00, 140.03it/s]\n",
      "Writing integer variables.: 100%|\u001b[38;2;128;191;255m██████████\u001b[0m| 1/1 [00:00<00:00, 701.86it/s]\n",
      "INFO:linopy.io: Writing time: 0.41s\n",
      "INFO:linopy.solvers:Log file at /tmp/highs.log\n"
     ]
    },
    {
     "name": "stdout",
     "output_type": "stream",
     "text": [
      "Running HiGHS 1.7.2 (git hash: 184e327): Copyright (c) 2024 HiGHS under MIT licence terms\n"
     ]
    },
    {
     "name": "stderr",
     "output_type": "stream",
     "text": [
      "INFO:linopy.constants: Optimization successful: \n",
      "Status: ok\n",
      "Termination condition: optimal\n",
      "Solution: 26290 primals, 58412 duals\n",
      "Objective: 9.30e+09\n",
      "Solver model: available\n",
      "Solver message: optimal\n",
      "\n",
      "INFO:pypsa.optimization.optimize:The shadow-prices of the constraints Generator-ext-p-lower, Generator-ext-p-upper, Link-ext-p-lower, Link-ext-p-upper, Store-ext-e-lower, Store-ext-e-upper, Store-energy_balance, self_sufficiency_constraint were not assigned to the network.\n"
     ]
    },
    {
     "name": "stdout",
     "output_type": "stream",
     "text": [
      "Coefficient ranges:\n",
      "  Matrix [3e-08, 5e+00]\n",
      "  Cost   [1e+02, 2e+06]\n",
      "  Bound  [0e+00, 0e+00]\n",
      "  RHS    [9e+02, 1e+06]\n",
      "Presolving model\n",
      "27787 rows, 24870 cols, 74598 nonzeros  0s\n",
      "22250 rows, 19333 cols, 68896 nonzeros  0s\n",
      "21691 rows, 18774 cols, 71126 nonzeros  0s\n",
      "\n",
      "Solving MIP model with:\n",
      "   21691 rows\n",
      "   18774 cols (0 binary, 2 integer, 0 implied int., 18772 continuous)\n",
      "   71126 nonzeros\n",
      "\n",
      "        Nodes      |    B&B Tree     |            Objective Bounds              |  Dynamic Constraints |       Work      \n",
      "     Proc. InQueue |  Leaves   Expl. | BestBound       BestSol              Gap |   Cuts   InLp Confl. | LpIters     Time\n",
      "\n",
      "         0       0         0   0.00%   -inf            inf                  inf        0      0      0         0     0.1s\n",
      " S       0       0         0   0.00%   -inf            9302656669.601     Large        0      0      0         0    10.3s\n",
      " R       0       0         0   0.00%   9297860792.923  9298030601.418     0.00%        0      0      0     25191    12.7s\n",
      "\n",
      "Solving report\n",
      "  Status            Optimal\n",
      "  Primal bound      9298030601.42\n",
      "  Dual bound        9297860792.92\n",
      "  Gap               0.00183% (tolerance: 0.01%)\n",
      "  Solution status   feasible\n",
      "                    9298030601.42 (objective)\n",
      "                    0 (bound viol.)\n",
      "                    0 (int. viol.)\n",
      "                    0 (row viol.)\n",
      "  Timing            12.67 (total)\n",
      "                    0.14 (presolve)\n",
      "                    0.00 (postsolve)\n",
      "  Nodes             1\n",
      "  LP iterations     25191 (total)\n",
      "                    0 (strong br.)\n",
      "                    0 (separation)\n",
      "                    0 (heuristics)\n",
      "Writing the solution to /tmp/linopy-solve-cb65wgql.sol\n"
     ]
    },
    {
     "name": "stderr",
     "output_type": "stream",
     "text": [
      "INFO:pypsa.io:Exported network 'network.nc' contains: buses, loads, links, generators, stores, carriers\n",
      "INFO:pypsa.io:Imported network network.nc has buses, carriers, generators, links, loads, stores\n"
     ]
    },
    {
     "name": "stdout",
     "output_type": "stream",
     "text": [
      "19 out of 24: ('Western Cape', 2035, 0.75, -0.2, False, False, 0)\n",
      "Check the get_geo(config) function\n",
      "Create and store parameters\n",
      "Check weather files\n",
      "Check renewables data\n",
      "Renewables files do not exist for geography Western Cape. Please see /input/renewables/generate-renewables.ipynb\n",
      "Create and store demand\n",
      "Create and store network\n",
      "Using config:\n",
      "\tself-sufficiency:0.75\n",
      "\th2:False\n",
      "\toffwind:True\n",
      "\tbiogas:0\n"
     ]
    },
    {
     "name": "stderr",
     "output_type": "stream",
     "text": [
      "INFO:pypsa.io:Exported network 'network.nc' contains: buses, loads, links, generators, stores, carriers\n"
     ]
    },
    {
     "name": "stdout",
     "output_type": "stream",
     "text": [
      "Run optimization\n"
     ]
    },
    {
     "name": "stderr",
     "output_type": "stream",
     "text": [
      "INFO:pypsa.io:Imported network network.nc has buses, carriers, generators, links, loads, stores\n",
      "INFO:linopy.model: Solve problem using Highs solver\n",
      "INFO:linopy.io:Writing objective.\n",
      "Writing constraints.: 100%|\u001b[38;2;128;191;255m██████████\u001b[0m| 17/17 [00:00<00:00, 48.62it/s]\n",
      "Writing continuous variables.: 100%|\u001b[38;2;128;191;255m██████████\u001b[0m| 8/8 [00:00<00:00, 138.59it/s]\n",
      "Writing integer variables.: 100%|\u001b[38;2;128;191;255m██████████\u001b[0m| 1/1 [00:00<00:00, 284.80it/s]\n",
      "INFO:linopy.io: Writing time: 0.45s\n",
      "INFO:linopy.solvers:Log file at /tmp/highs.log\n"
     ]
    },
    {
     "name": "stdout",
     "output_type": "stream",
     "text": [
      "Running HiGHS 1.7.2 (git hash: 184e327): Copyright (c) 2024 HiGHS under MIT licence terms\n"
     ]
    },
    {
     "name": "stderr",
     "output_type": "stream",
     "text": [
      "INFO:linopy.constants: Optimization successful: \n",
      "Status: ok\n",
      "Termination condition: optimal\n",
      "Solution: 29212 primals, 64254 duals\n",
      "Objective: 9.30e+09\n",
      "Solver model: available\n",
      "Solver message: optimal\n",
      "\n",
      "INFO:pypsa.optimization.optimize:The shadow-prices of the constraints Generator-ext-p-lower, Generator-ext-p-upper, Link-ext-p-lower, Link-ext-p-upper, Store-ext-e-lower, Store-ext-e-upper, Store-energy_balance, self_sufficiency_constraint were not assigned to the network.\n"
     ]
    },
    {
     "name": "stdout",
     "output_type": "stream",
     "text": [
      "Coefficient ranges:\n",
      "  Matrix [3e-08, 2e+01]\n",
      "  Cost   [1e+02, 3e+06]\n",
      "  Bound  [0e+00, 0e+00]\n",
      "  RHS    [9e+02, 1e+06]\n",
      "Presolving model\n",
      "30707 rows, 27791 cols, 83358 nonzeros  0s\n",
      "26061 rows, 23145 cols, 82210 nonzeros  0s\n",
      "26061 rows, 23145 cols, 82210 nonzeros  0s\n",
      "\n",
      "Solving MIP model with:\n",
      "   26061 rows\n",
      "   23145 cols (0 binary, 3 integer, 0 implied int., 23142 continuous)\n",
      "   82210 nonzeros\n",
      "\n",
      "        Nodes      |    B&B Tree     |            Objective Bounds              |  Dynamic Constraints |       Work      \n",
      "     Proc. InQueue |  Leaves   Expl. | BestBound       BestSol              Gap |   Cuts   InLp Confl. | LpIters     Time\n",
      "\n",
      "         0       0         0   0.00%   -inf            inf                  inf        0      0      0         0     0.2s\n",
      " S       0       0         0   0.00%   -inf            9302656669.601     Large        0      0      0         0    17.9s\n",
      " R       0       0         0   0.00%   9297860792.923  9298030601.418     0.00%        0      0      0     37195    21.5s\n",
      "\n",
      "Solving report\n",
      "  Status            Optimal\n",
      "  Primal bound      9298030601.42\n",
      "  Dual bound        9297860792.92\n",
      "  Gap               0.00183% (tolerance: 0.01%)\n",
      "  Solution status   feasible\n",
      "                    9298030601.42 (objective)\n",
      "                    0 (bound viol.)\n",
      "                    0 (int. viol.)\n",
      "                    0 (row viol.)\n",
      "  Timing            21.52 (total)\n",
      "                    0.14 (presolve)\n",
      "                    0.00 (postsolve)\n",
      "  Nodes             1\n",
      "  LP iterations     37195 (total)\n",
      "                    0 (strong br.)\n",
      "                    0 (separation)\n",
      "                    0 (heuristics)\n",
      "Writing the solution to /tmp/linopy-solve-py0gdcnq.sol\n"
     ]
    },
    {
     "name": "stderr",
     "output_type": "stream",
     "text": [
      "INFO:pypsa.io:Exported network 'network.nc' contains: buses, loads, links, generators, stores, carriers\n",
      "INFO:pypsa.io:Imported network network.nc has buses, carriers, generators, links, loads, stores\n"
     ]
    },
    {
     "name": "stdout",
     "output_type": "stream",
     "text": [
      "20 out of 24: ('Western Cape', 2035, 0.75, -0.2, False, True, 0)\n",
      "Check the get_geo(config) function\n",
      "Create and store parameters\n",
      "Check weather files\n",
      "Check renewables data\n",
      "Renewables files do not exist for geography Western Cape. Please see /input/renewables/generate-renewables.ipynb\n",
      "Create and store demand\n",
      "Create and store network\n",
      "Using config:\n",
      "\tself-sufficiency:0.75\n",
      "\th2:False\n",
      "\toffwind:False\n",
      "\tbiogas:0\n"
     ]
    },
    {
     "name": "stderr",
     "output_type": "stream",
     "text": [
      "INFO:pypsa.io:Exported network 'network.nc' contains: buses, loads, links, generators, stores, carriers\n"
     ]
    },
    {
     "name": "stdout",
     "output_type": "stream",
     "text": [
      "Run optimization\n"
     ]
    },
    {
     "name": "stderr",
     "output_type": "stream",
     "text": [
      "INFO:pypsa.io:Imported network network.nc has buses, carriers, generators, links, loads, stores\n",
      "INFO:linopy.model: Solve problem using Highs solver\n",
      "INFO:linopy.io:Writing objective.\n",
      "Writing constraints.: 100%|\u001b[38;2;128;191;255m██████████\u001b[0m| 17/17 [00:00<00:00, 23.92it/s]\n",
      "Writing continuous variables.: 100%|\u001b[38;2;128;191;255m██████████\u001b[0m| 8/8 [00:00<00:00, 54.47it/s]\n",
      "Writing integer variables.: 100%|\u001b[38;2;128;191;255m██████████\u001b[0m| 1/1 [00:00<00:00, 275.40it/s]\n",
      "INFO:linopy.io: Writing time: 0.91s\n",
      "INFO:linopy.solvers:Log file at /tmp/highs.log\n"
     ]
    },
    {
     "name": "stdout",
     "output_type": "stream",
     "text": [
      "Running HiGHS 1.7.2 (git hash: 184e327): Copyright (c) 2024 HiGHS under MIT licence terms\n"
     ]
    },
    {
     "name": "stderr",
     "output_type": "stream",
     "text": [
      "INFO:linopy.constants: Optimization successful: \n",
      "Status: ok\n",
      "Termination condition: optimal\n",
      "Solution: 26290 primals, 58412 duals\n",
      "Objective: 1.16e+10\n",
      "Solver model: available\n",
      "Solver message: optimal\n",
      "\n",
      "INFO:pypsa.optimization.optimize:The shadow-prices of the constraints Generator-ext-p-lower, Generator-ext-p-upper, Link-ext-p-lower, Link-ext-p-upper, Store-ext-e-lower, Store-ext-e-upper, Store-energy_balance, self_sufficiency_constraint were not assigned to the network.\n"
     ]
    },
    {
     "name": "stdout",
     "output_type": "stream",
     "text": [
      "Coefficient ranges:\n",
      "  Matrix [3e-08, 5e+00]\n",
      "  Cost   [1e+02, 2e+06]\n",
      "  Bound  [0e+00, 0e+00]\n",
      "  RHS    [1e+03, 1e+06]\n",
      "Presolving model\n",
      "27787 rows, 24870 cols, 74598 nonzeros  0s\n",
      "22250 rows, 19333 cols, 68896 nonzeros  0s\n",
      "21691 rows, 18774 cols, 71126 nonzeros  0s\n",
      "\n",
      "Solving MIP model with:\n",
      "   21691 rows\n",
      "   18774 cols (0 binary, 2 integer, 0 implied int., 18772 continuous)\n",
      "   71126 nonzeros\n",
      "\n",
      "        Nodes      |    B&B Tree     |            Objective Bounds              |  Dynamic Constraints |       Work      \n",
      "     Proc. InQueue |  Leaves   Expl. | BestBound       BestSol              Gap |   Cuts   InLp Confl. | LpIters     Time\n",
      "\n",
      "         0       0         0   0.00%   -inf            inf                  inf        0      0      0         0     0.2s\n",
      " S       0       0         0   0.00%   -inf            11626608105.96     Large        0      0      0         0     8.7s\n",
      " R       0       0         0   0.00%   11622325991.16  11622454074.17     0.00%        0      0      0     24896    11.2s\n",
      "\n",
      "Solving report\n",
      "  Status            Optimal\n",
      "  Primal bound      11622454074.2\n",
      "  Dual bound        11622325991.2\n",
      "  Gap               0.0011% (tolerance: 0.01%)\n",
      "  Solution status   feasible\n",
      "                    11622454074.2 (objective)\n",
      "                    0 (bound viol.)\n",
      "                    0 (int. viol.)\n",
      "                    0 (row viol.)\n",
      "  Timing            11.24 (total)\n",
      "                    0.16 (presolve)\n",
      "                    0.00 (postsolve)\n",
      "  Nodes             1\n",
      "  LP iterations     24896 (total)\n",
      "                    0 (strong br.)\n",
      "                    0 (separation)\n",
      "                    0 (heuristics)\n",
      "Writing the solution to /tmp/linopy-solve-8kef04g5.sol\n"
     ]
    },
    {
     "name": "stderr",
     "output_type": "stream",
     "text": [
      "INFO:pypsa.io:Exported network 'network.nc' contains: buses, loads, links, generators, stores, carriers\n",
      "INFO:pypsa.io:Imported network network.nc has buses, carriers, generators, links, loads, stores\n"
     ]
    },
    {
     "name": "stdout",
     "output_type": "stream",
     "text": [
      "21 out of 24: ('Western Cape', 2035, 0.75, 0, False, False, 0)\n",
      "Check the get_geo(config) function\n",
      "Create and store parameters\n",
      "Check weather files\n",
      "Check renewables data\n",
      "Renewables files do not exist for geography Western Cape. Please see /input/renewables/generate-renewables.ipynb\n",
      "Create and store demand\n",
      "Create and store network\n",
      "Using config:\n",
      "\tself-sufficiency:0.75\n",
      "\th2:False\n",
      "\toffwind:True\n",
      "\tbiogas:0\n"
     ]
    },
    {
     "name": "stderr",
     "output_type": "stream",
     "text": [
      "INFO:pypsa.io:Exported network 'network.nc' contains: buses, loads, links, generators, stores, carriers\n"
     ]
    },
    {
     "name": "stdout",
     "output_type": "stream",
     "text": [
      "Run optimization\n"
     ]
    },
    {
     "name": "stderr",
     "output_type": "stream",
     "text": [
      "INFO:pypsa.io:Imported network network.nc has buses, carriers, generators, links, loads, stores\n",
      "INFO:linopy.model: Solve problem using Highs solver\n",
      "INFO:linopy.io:Writing objective.\n",
      "Writing constraints.: 100%|\u001b[38;2;128;191;255m██████████\u001b[0m| 17/17 [00:00<00:00, 46.75it/s]\n",
      "Writing continuous variables.: 100%|\u001b[38;2;128;191;255m██████████\u001b[0m| 8/8 [00:00<00:00, 119.58it/s]\n",
      "Writing integer variables.: 100%|\u001b[38;2;128;191;255m██████████\u001b[0m| 1/1 [00:00<00:00, 462.90it/s]\n",
      "INFO:linopy.io: Writing time: 0.47s\n",
      "INFO:linopy.solvers:Log file at /tmp/highs.log\n"
     ]
    },
    {
     "name": "stdout",
     "output_type": "stream",
     "text": [
      "Running HiGHS 1.7.2 (git hash: 184e327): Copyright (c) 2024 HiGHS under MIT licence terms\n",
      "Coefficient ranges:\n",
      "  Matrix [3e-08, 2e+01]\n",
      "  Cost   [1e+02, 3e+06]\n",
      "  Bound  [0e+00, 0e+00]\n",
      "  RHS    [1e+03, 1e+06]\n",
      "Presolving model\n",
      "30707 rows, 27791 cols, 83358 nonzeros  0s\n",
      "26061 rows, 23145 cols, 82210 nonzeros  0s\n",
      "26061 rows, 23145 cols, 82210 nonzeros  0s\n",
      "\n",
      "Solving MIP model with:\n",
      "   26061 rows\n",
      "   23145 cols (0 binary, 3 integer, 0 implied int., 23142 continuous)\n",
      "   82210 nonzeros\n",
      "\n",
      "        Nodes      |    B&B Tree     |            Objective Bounds              |  Dynamic Constraints |       Work      \n",
      "     Proc. InQueue |  Leaves   Expl. | BestBound       BestSol              Gap |   Cuts   InLp Confl. | LpIters     Time\n",
      "\n",
      "         0       0         0   0.00%   -inf            inf                  inf        0      0      0         0     0.2s\n",
      " S       0       0         0   0.00%   -inf            11626608105.96     Large        0      0      0         0    15.9s\n",
      " R       0       0         0   0.00%   11622325991.16  11622454074.17     0.00%        0      0      0     38901    19.6s\n",
      "\n",
      "Solving report\n",
      "  Status            Optimal\n",
      "  Primal bound      11622454074.2\n",
      "  Dual bound        11622325991.2\n",
      "  Gap               0.0011% (tolerance: 0.01%)\n",
      "  Solution status   feasible\n",
      "                    11622454074.2 (objective)\n",
      "                    0 (bound viol.)\n",
      "                    0 (int. viol.)\n",
      "                    0 (row viol.)\n",
      "  Timing            19.58 (total)\n",
      "                    0.16 (presolve)\n",
      "                    0.00 (postsolve)\n",
      "  Nodes             1\n",
      "  LP iterations     38901 (total)\n",
      "                    0 (strong br.)\n",
      "                    0 (separation)\n",
      "                    0 (heuristics)\n"
     ]
    },
    {
     "name": "stderr",
     "output_type": "stream",
     "text": [
      "INFO:linopy.constants: Optimization successful: \n",
      "Status: ok\n",
      "Termination condition: optimal\n",
      "Solution: 29212 primals, 64254 duals\n",
      "Objective: 1.16e+10\n",
      "Solver model: available\n",
      "Solver message: optimal\n",
      "\n",
      "INFO:pypsa.optimization.optimize:The shadow-prices of the constraints Generator-ext-p-lower, Generator-ext-p-upper, Link-ext-p-lower, Link-ext-p-upper, Store-ext-e-lower, Store-ext-e-upper, Store-energy_balance, self_sufficiency_constraint were not assigned to the network.\n"
     ]
    },
    {
     "name": "stdout",
     "output_type": "stream",
     "text": [
      "Writing the solution to /tmp/linopy-solve-rdpkejvh.sol\n"
     ]
    },
    {
     "name": "stderr",
     "output_type": "stream",
     "text": [
      "INFO:pypsa.io:Exported network 'network.nc' contains: buses, loads, links, generators, stores, carriers\n",
      "INFO:pypsa.io:Imported network network.nc has buses, carriers, generators, links, loads, stores\n"
     ]
    },
    {
     "name": "stdout",
     "output_type": "stream",
     "text": [
      "22 out of 24: ('Western Cape', 2035, 0.75, 0, False, True, 0)\n",
      "Check the get_geo(config) function\n",
      "Create and store parameters\n",
      "Check weather files\n",
      "Check renewables data\n",
      "Renewables files do not exist for geography Western Cape. Please see /input/renewables/generate-renewables.ipynb\n",
      "Create and store demand\n",
      "Create and store network\n",
      "Using config:\n",
      "\tself-sufficiency:0.75\n",
      "\th2:False\n",
      "\toffwind:False\n",
      "\tbiogas:0\n"
     ]
    },
    {
     "name": "stderr",
     "output_type": "stream",
     "text": [
      "INFO:pypsa.io:Exported network 'network.nc' contains: buses, loads, links, generators, stores, carriers\n"
     ]
    },
    {
     "name": "stdout",
     "output_type": "stream",
     "text": [
      "Run optimization\n"
     ]
    },
    {
     "name": "stderr",
     "output_type": "stream",
     "text": [
      "INFO:pypsa.io:Imported network network.nc has buses, carriers, generators, links, loads, stores\n",
      "INFO:linopy.model: Solve problem using Highs solver\n",
      "INFO:linopy.io:Writing objective.\n",
      "Writing constraints.: 100%|\u001b[38;2;128;191;255m██████████\u001b[0m| 17/17 [00:00<00:00, 39.08it/s]\n",
      "Writing continuous variables.: 100%|\u001b[38;2;128;191;255m██████████\u001b[0m| 8/8 [00:00<00:00, 126.46it/s]\n",
      "Writing integer variables.: 100%|\u001b[38;2;128;191;255m██████████\u001b[0m| 1/1 [00:00<00:00, 657.52it/s]\n",
      "INFO:linopy.io: Writing time: 0.53s\n",
      "INFO:linopy.solvers:Log file at /tmp/highs.log\n"
     ]
    },
    {
     "name": "stdout",
     "output_type": "stream",
     "text": [
      "Running HiGHS 1.7.2 (git hash: 184e327): Copyright (c) 2024 HiGHS under MIT licence terms\n"
     ]
    },
    {
     "name": "stderr",
     "output_type": "stream",
     "text": [
      "INFO:linopy.constants: Optimization successful: \n",
      "Status: ok\n",
      "Termination condition: optimal\n",
      "Solution: 26290 primals, 58412 duals\n",
      "Objective: 1.39e+10\n",
      "Solver model: available\n",
      "Solver message: optimal\n",
      "\n"
     ]
    },
    {
     "name": "stdout",
     "output_type": "stream",
     "text": [
      "Coefficient ranges:\n",
      "  Matrix [3e-08, 5e+00]\n",
      "  Cost   [1e+02, 2e+06]\n",
      "  Bound  [0e+00, 0e+00]\n",
      "  RHS    [1e+03, 2e+06]\n",
      "Presolving model\n",
      "27787 rows, 24870 cols, 74598 nonzeros  0s\n",
      "22250 rows, 19333 cols, 68896 nonzeros  0s\n",
      "21691 rows, 18774 cols, 71126 nonzeros  0s\n",
      "\n",
      "Solving MIP model with:\n",
      "   21691 rows\n",
      "   18774 cols (0 binary, 2 integer, 0 implied int., 18772 continuous)\n",
      "   71126 nonzeros\n",
      "\n",
      "        Nodes      |    B&B Tree     |            Objective Bounds              |  Dynamic Constraints |       Work      \n",
      "     Proc. InQueue |  Leaves   Expl. | BestBound       BestSol              Gap |   Cuts   InLp Confl. | LpIters     Time\n",
      "\n",
      "         0       0         0   0.00%   -inf            inf                  inf        0      0      0         0     0.1s\n",
      " S       0       0         0   0.00%   -inf            13950092796.34     Large        0      0      0         0    10.2s\n",
      " R       0       0         0   0.00%   13946791189.39  13946864517.38     0.00%        0      0      0     24938    12.7s\n",
      "\n",
      "Solving report\n",
      "  Status            Optimal\n",
      "  Primal bound      13946864517.4\n",
      "  Dual bound        13946791189.4\n",
      "  Gap               0.000526% (tolerance: 0.01%)\n",
      "  Solution status   feasible\n",
      "                    13946864517.4 (objective)\n",
      "                    0 (bound viol.)\n",
      "                    0 (int. viol.)\n",
      "                    0 (row viol.)\n",
      "  Timing            12.65 (total)\n",
      "                    0.14 (presolve)\n",
      "                    0.00 (postsolve)\n",
      "  Nodes             1\n",
      "  LP iterations     24938 (total)\n",
      "                    0 (strong br.)\n",
      "                    0 (separation)\n",
      "                    0 (heuristics)\n",
      "Writing the solution to /tmp/linopy-solve-5fzz554f.sol\n"
     ]
    },
    {
     "name": "stderr",
     "output_type": "stream",
     "text": [
      "INFO:pypsa.optimization.optimize:The shadow-prices of the constraints Generator-ext-p-lower, Generator-ext-p-upper, Link-ext-p-lower, Link-ext-p-upper, Store-ext-e-lower, Store-ext-e-upper, Store-energy_balance, self_sufficiency_constraint were not assigned to the network.\n",
      "INFO:pypsa.io:Exported network 'network.nc' contains: buses, loads, links, generators, stores, carriers\n",
      "INFO:pypsa.io:Imported network network.nc has buses, carriers, generators, links, loads, stores\n"
     ]
    },
    {
     "name": "stdout",
     "output_type": "stream",
     "text": [
      "23 out of 24: ('Western Cape', 2035, 0.75, 0.2, False, False, 0)\n",
      "Check the get_geo(config) function\n",
      "Create and store parameters\n",
      "Check weather files\n",
      "Check renewables data\n",
      "Renewables files do not exist for geography Western Cape. Please see /input/renewables/generate-renewables.ipynb\n",
      "Create and store demand\n",
      "Create and store network\n",
      "Using config:\n",
      "\tself-sufficiency:0.75\n",
      "\th2:False\n",
      "\toffwind:True\n",
      "\tbiogas:0\n"
     ]
    },
    {
     "name": "stderr",
     "output_type": "stream",
     "text": [
      "INFO:pypsa.io:Exported network 'network.nc' contains: buses, loads, links, generators, stores, carriers\n"
     ]
    },
    {
     "name": "stdout",
     "output_type": "stream",
     "text": [
      "Run optimization\n"
     ]
    },
    {
     "name": "stderr",
     "output_type": "stream",
     "text": [
      "INFO:pypsa.io:Imported network network.nc has buses, carriers, generators, links, loads, stores\n",
      "INFO:linopy.model: Solve problem using Highs solver\n",
      "INFO:linopy.io:Writing objective.\n",
      "Writing constraints.: 100%|\u001b[38;2;128;191;255m██████████\u001b[0m| 17/17 [00:00<00:00, 45.41it/s]\n",
      "Writing continuous variables.: 100%|\u001b[38;2;128;191;255m██████████\u001b[0m| 8/8 [00:00<00:00, 115.67it/s]\n",
      "Writing integer variables.: 100%|\u001b[38;2;128;191;255m██████████\u001b[0m| 1/1 [00:00<00:00, 657.72it/s]\n",
      "INFO:linopy.io: Writing time: 0.48s\n",
      "INFO:linopy.solvers:Log file at /tmp/highs.log\n"
     ]
    },
    {
     "name": "stdout",
     "output_type": "stream",
     "text": [
      "Running HiGHS 1.7.2 (git hash: 184e327): Copyright (c) 2024 HiGHS under MIT licence terms\n",
      "Coefficient ranges:\n",
      "  Matrix [3e-08, 2e+01]\n",
      "  Cost   [1e+02, 3e+06]\n",
      "  Bound  [0e+00, 0e+00]\n",
      "  RHS    [1e+03, 2e+06]\n"
     ]
    },
    {
     "name": "stderr",
     "output_type": "stream",
     "text": [
      "INFO:linopy.constants: Optimization successful: \n",
      "Status: ok\n",
      "Termination condition: optimal\n",
      "Solution: 29212 primals, 64254 duals\n",
      "Objective: 1.39e+10\n",
      "Solver model: available\n",
      "Solver message: optimal\n",
      "\n",
      "INFO:pypsa.optimization.optimize:The shadow-prices of the constraints Generator-ext-p-lower, Generator-ext-p-upper, Link-ext-p-lower, Link-ext-p-upper, Store-ext-e-lower, Store-ext-e-upper, Store-energy_balance, self_sufficiency_constraint were not assigned to the network.\n"
     ]
    },
    {
     "name": "stdout",
     "output_type": "stream",
     "text": [
      "Presolving model\n",
      "30707 rows, 27791 cols, 83358 nonzeros  0s\n",
      "26061 rows, 23145 cols, 82210 nonzeros  0s\n",
      "26061 rows, 23145 cols, 82210 nonzeros  0s\n",
      "\n",
      "Solving MIP model with:\n",
      "   26061 rows\n",
      "   23145 cols (0 binary, 3 integer, 0 implied int., 23142 continuous)\n",
      "   82210 nonzeros\n",
      "\n",
      "        Nodes      |    B&B Tree     |            Objective Bounds              |  Dynamic Constraints |       Work      \n",
      "     Proc. InQueue |  Leaves   Expl. | BestBound       BestSol              Gap |   Cuts   InLp Confl. | LpIters     Time\n",
      "\n",
      "         0       0         0   0.00%   -inf            inf                  inf        0      0      0         0     0.2s\n",
      " S       0       0         0   0.00%   -inf            13950092796.34     Large        0      0      0         0    16.9s\n",
      " R       0       0         0   0.00%   13946791189.39  13946864517.38     0.00%        0      0      0     38566    20.4s\n",
      "\n",
      "Solving report\n",
      "  Status            Optimal\n",
      "  Primal bound      13946864517.4\n",
      "  Dual bound        13946791189.4\n",
      "  Gap               0.000526% (tolerance: 0.01%)\n",
      "  Solution status   feasible\n",
      "                    13946864517.4 (objective)\n",
      "                    0 (bound viol.)\n",
      "                    0 (int. viol.)\n",
      "                    0 (row viol.)\n",
      "  Timing            20.41 (total)\n",
      "                    0.16 (presolve)\n",
      "                    0.00 (postsolve)\n",
      "  Nodes             1\n",
      "  LP iterations     38566 (total)\n",
      "                    0 (strong br.)\n",
      "                    0 (separation)\n",
      "                    0 (heuristics)\n",
      "Writing the solution to /tmp/linopy-solve-kag1f7qs.sol\n"
     ]
    },
    {
     "name": "stderr",
     "output_type": "stream",
     "text": [
      "INFO:pypsa.io:Exported network 'network.nc' contains: buses, loads, links, generators, stores, carriers\n",
      "INFO:pypsa.io:Imported network network.nc has buses, carriers, generators, links, loads, stores\n"
     ]
    },
    {
     "name": "stdout",
     "output_type": "stream",
     "text": [
      "24 out of 24: ('Western Cape', 2035, 0.75, 0.2, False, True, 0)\n",
      "Execution time: 7.2144 minutes\n"
     ]
    }
   ],
   "source": [
    "CONFIG_NAME=\"demo\"\n",
    "\n",
    "# Iterates using the configuration specified, and runs everything needed to create all the outputs\n",
    "%run generator.py \"create\" \"$CONFIG_NAME\" False True"
   ]
  },
  {
   "cell_type": "markdown",
   "id": "5ef01af3-efa1-4791-ab78-76fcd372f3ae",
   "metadata": {},
   "source": [
    "### "
   ]
  }
 ],
 "metadata": {
  "kernelspec": {
   "display_name": "pypsa-eur",
   "language": "python",
   "name": "python3"
  },
  "language_info": {
   "codemirror_mode": {
    "name": "ipython",
    "version": 3
   },
   "file_extension": ".py",
   "mimetype": "text/x-python",
   "name": "python",
   "nbconvert_exporter": "python",
   "pygments_lexer": "ipython3",
   "version": "3.12.6"
  }
 },
 "nbformat": 4,
 "nbformat_minor": 5
}
