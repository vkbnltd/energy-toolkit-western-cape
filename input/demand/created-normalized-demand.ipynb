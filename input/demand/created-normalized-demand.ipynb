{
 "cells": [
  {
   "cell_type": "code",
   "execution_count": 90,
   "metadata": {},
   "outputs": [],
   "source": [
    "# Config and imports\n",
    "\n",
    "import sys\n",
    "import logging\n",
    "from pathlib import Path\n",
    "import pandas as pd\n",
    "import numpy as np\n",
    "import ipywidgets as widgets\n",
    "import matplotlib.pyplot as plt\n",
    "\n",
    "root_path = Path(globals()['_dh'][0]).resolve().parent\n",
    "sys.path.append(str(root_path))\n",
    "\n",
    "import paths\n",
    "\n",
    "logging.basicConfig(level=logging.INFO)"
   ]
  },
  {
   "cell_type": "markdown",
   "metadata": {},
   "source": [
    "## TODO\n",
    "\n",
    "I think this is the experimental workbook and that I placed the final code in a function in demand.py. I should make this workbook the actual place where normalized demand is created using the functions in demand.py"
   ]
  },
  {
   "cell_type": "code",
   "execution_count": 148,
   "metadata": {},
   "outputs": [
    {
     "data": {
      "application/vnd.jupyter.widget-view+json": {
       "model_id": "a011f78684064f6baac0c30fab6350dc",
       "version_major": 2,
       "version_minor": 0
      },
      "text/plain": [
       "Output()"
      ]
     },
     "execution_count": 148,
     "metadata": {},
     "output_type": "execute_result"
    }
   ],
   "source": [
    "# Demand work\n",
    "\n",
    "## Helper function to change some 2025 dates to 2024\n",
    "def change_year_to_2024(date):\n",
    "    if date.year == 2025:\n",
    "        return date.replace(year=2024)\n",
    "    return date\n",
    "\n",
    "## Read the 2-year weekly csv file\n",
    "weekly_demand_annual = pd.read_csv(paths.input_path / 'demand/Weekly_Energy_Demand_Financial_Year.csv', delimiter=',', parse_dates=['WeekStartDate'])\n",
    "\n",
    "## Filter out 2023-24 RSA Contracted energy demand\n",
    "rsa_contracted_demand = weekly_demand_annual[weekly_demand_annual['Forecast_Or_Actual_Value_Legend'] == '2023-24-RSA Contracted Energy Demand']\n",
    "## Drop Legend column\n",
    "rsa_contracted_demand = rsa_contracted_demand.drop(columns=['Forecast_Or_Actual_Value_Legend'])\n",
    "## Reshuffle fiscal year (April to April) to calendar year (this is not a perfect method)\n",
    "rsa_contracted_demand['WeekStartDate'] = rsa_contracted_demand['WeekStartDate'].apply(change_year_to_2024)\n",
    "## Set index and sort\n",
    "rsa_contracted_demand.set_index('WeekStartDate', inplace=True)\n",
    "rsa_contracted_demand.sort_index(inplace=True)\n",
    "\n",
    "## Normalize the values\n",
    "rsa_contracted_demand['Forecast_Or_Actual_Value'] = rsa_contracted_demand['Forecast_Or_Actual_Value']/rsa_contracted_demand['Forecast_Or_Actual_Value'].sum()\n",
    "\n",
    "## Read the 2-week hourly csv file\n",
    "biweekly_demand_hour = pd.read_csv(paths.input_path / 'demand/System_hourly_actual_and_forecasted_demand.csv', delimiter=',', parse_dates=['DateTimeKey'], index_col='DateTimeKey', usecols=[0,2,4]).sort_index()\n",
    "\n",
    "## Combine RSA Contracted columns into new column and drop old columns\n",
    "biweekly_demand_hour['RSA Contracted'] = biweekly_demand_hour['RSA Contracted Demand'].combine_first(biweekly_demand_hour['RSA Contracted Forecast'])\n",
    "biweekly_demand_hour = biweekly_demand_hour.drop(columns=['RSA Contracted Demand', 'RSA Contracted Forecast'])\n",
    "\n",
    "## Cut out a calendar week + resample series to 3h intervals\n",
    "first_monday = biweekly_demand_hour.index[biweekly_demand_hour.index.weekday == 0][0]\n",
    "end_of_week = first_monday + pd.Timedelta(days=6, hours=23, minutes=59, seconds=59)\n",
    "weekly_demand_3h = biweekly_demand_hour[first_monday:end_of_week].resample('3h').max()\n",
    "\n",
    "## Normalize to year\n",
    "weekly_demand_3h_normalized = weekly_demand_3h / (weekly_demand_3h.sum() * 3)\n",
    "\n",
    "## Create new array to hold the 3h values for a whole year\n",
    "normalized_demand_3h_array = np.array([])\n",
    "\n",
    "## Loop through the annual array of weekly values\n",
    "for _, row in rsa_contracted_demand.iterrows():\n",
    "    normalized_demand_3h_array = np.append(normalized_demand_3h_array, row['Forecast_Or_Actual_Value']*weekly_demand_3h_normalized.values.flatten())\n",
    "\n",
    "## Add a final day\n",
    "avg_first_last_week = (rsa_contracted_demand.iloc[0]['Forecast_Or_Actual_Value']+rsa_contracted_demand.iloc[-1]['Forecast_Or_Actual_Value'])/2\n",
    "normalized_demand_3h_array = np.append(normalized_demand_3h_array, avg_first_last_week*weekly_demand_3h_normalized.iloc[:8].values.flatten())\n",
    "\n",
    "full_date_range = pd.date_range(start='2023-01-01', periods=len(normalized_demand_3h_array), freq='3h')\n",
    "normalized_demand_3h = pd.DataFrame(normalized_demand_3h_array, index=full_date_range)\n",
    "normalized_demand_3h.columns = ['value']\n",
    "\n",
    "## Plot the result\n",
    "line_plot = widgets.Output()\n",
    "with line_plot:\n",
    "    fig, ax = plt.subplots(figsize=(20, 8))\n",
    "    normalized_demand_3h.plot(ax=ax, color='blue', alpha=0.2)\n",
    "    normalized_demand_3h.rolling(window=56, center=True).mean().plot(ax=ax, color='black')\n",
    "    ax.set_ylabel('')\n",
    "    ax.set_xlabel('')\n",
    "    ax.set_title('Annual demand')\n",
    "    plt.show()\n",
    "\n",
    "line_plot"
   ]
  },
  {
   "cell_type": "code",
   "execution_count": 136,
   "metadata": {},
   "outputs": [
    {
     "data": {
      "text/plain": [
       "364"
      ]
     },
     "execution_count": 136,
     "metadata": {},
     "output_type": "execute_result"
    }
   ],
   "source": []
  }
 ],
 "metadata": {
  "kernelspec": {
   "display_name": "pypsa-vgr",
   "language": "python",
   "name": "python3"
  },
  "language_info": {
   "codemirror_mode": {
    "name": "ipython",
    "version": 3
   },
   "file_extension": ".py",
   "mimetype": "text/x-python",
   "name": "python",
   "nbconvert_exporter": "python",
   "pygments_lexer": "ipython3",
   "version": "3.11.9"
  }
 },
 "nbformat": 4,
 "nbformat_minor": 2
}
