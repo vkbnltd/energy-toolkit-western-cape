{
 "cells": [
  {
   "cell_type": "markdown",
   "metadata": {},
   "source": [
    "# Generate renewables data\n",
    "\n",
    "This notebook should work for generating capacity factors for your project, as long as you have:\n",
    "\n",
    "1. Created an excluder in excluder.py\n",
    "2. Created an appropriate structure for your geography classification in geo/config.json"
   ]
  },
  {
   "cell_type": "code",
   "execution_count": 1,
   "metadata": {},
   "outputs": [],
   "source": [
    "# Import libraries\n",
    "\n",
    "import sys\n",
    "import logging\n",
    "import json\n",
    "from pathlib import Path\n",
    "\n",
    "root_path = Path(globals()['_dh'][0]).resolve().parent.parent\n",
    "sys.path.append(str(root_path))\n",
    "\n",
    "import paths\n",
    "from input.weather.weather_core import load_weather\n",
    "from renewables_core import store_availability_matrix, store_capacity_factor\n",
    "\n",
    "logging.basicConfig(level=logging.INFO)"
   ]
  },
  {
   "cell_type": "code",
   "execution_count": 2,
   "metadata": {},
   "outputs": [],
   "source": [
    "# Read and set configuration\n",
    "\n",
    "with (paths.geo_root / 'config.json').open('r') as f:\n",
    "    config = json.load(f)"
   ]
  },
  {
   "cell_type": "code",
   "execution_count": 3,
   "metadata": {},
   "outputs": [
    {
     "name": "stdout",
     "output_type": "stream",
     "text": [
      "Western Cape: Western Cape (0 sections)\n",
      "Load weather\n"
     ]
    },
    {
     "name": "stderr",
     "output_type": "stream",
     "text": [
      "Compute availability matrix: 100%|██████████| 1/1 [00:31<00:00, 31.79s/ gridcells]\n",
      "INFO:atlite.convert:Convert and aggregate 'pv'.\n"
     ]
    },
    {
     "name": "stdout",
     "output_type": "stream",
     "text": [
      "[########################################] | 100% Completed | 16.19 s\n"
     ]
    },
    {
     "name": "stderr",
     "output_type": "stream",
     "text": [
      "Compute availability matrix: 100%|██████████| 1/1 [00:18<00:00, 18.33s/ gridcells]\n",
      "/home/viktor/miniforge3/envs/pypsa-vgr/lib/python3.11/site-packages/atlite/resource.py:72: FutureWarning: 'add_cutout_windspeed' for wind turbine\n",
      "power curves will default to True in atlite relase v0.2.13.\n",
      "  warnings.warn(msg, FutureWarning)\n",
      "INFO:atlite.convert:Convert and aggregate 'wind'.\n"
     ]
    },
    {
     "name": "stdout",
     "output_type": "stream",
     "text": [
      "[########################################] | 100% Completed | 7.28 s\n"
     ]
    },
    {
     "name": "stderr",
     "output_type": "stream",
     "text": [
      "Compute availability matrix: 100%|██████████| 1/1 [00:20<00:00, 20.88s/ gridcells]\n",
      "/home/viktor/miniforge3/envs/pypsa-vgr/lib/python3.11/site-packages/atlite/resource.py:72: FutureWarning: 'add_cutout_windspeed' for wind turbine\n",
      "power curves will default to True in atlite relase v0.2.13.\n",
      "  warnings.warn(msg, FutureWarning)\n",
      "INFO:atlite.convert:Convert and aggregate 'wind'.\n"
     ]
    },
    {
     "name": "stdout",
     "output_type": "stream",
     "text": [
      "[########################################] | 100% Completed | 6.45 s\n"
     ]
    }
   ],
   "source": [
    "# Generate and store availability matrices and capacity factors\n",
    "for name, item in config['weather-geo'].items():\n",
    "    print(f\"{name}: {item['geo']} ({len(item['sections'])} sections)\")\n",
    "    print(\"Load weather\")\n",
    "\n",
    "    cutout, selection, index = load_weather(item['geo'], None, config['weather-start'], config['weather-end'])\n",
    "    for energy_type in config['energy-types']:\n",
    "        store_availability_matrix(cutout, selection, energy_type, item['geo'], None, config['weather-start'], config['weather-end'])\n",
    "        store_capacity_factor(cutout, selection, energy_type, config['generators'][energy_type], item['geo'], None, config['weather-start'], config['weather-end'])"
   ]
  }
 ],
 "metadata": {
  "kernelspec": {
   "display_name": "pypsa-eur",
   "language": "python",
   "name": "python3"
  },
  "language_info": {
   "codemirror_mode": {
    "name": "ipython",
    "version": 3
   },
   "file_extension": ".py",
   "mimetype": "text/x-python",
   "name": "python",
   "nbconvert_exporter": "python",
   "pygments_lexer": "ipython3",
   "version": "3.11.9"
  }
 },
 "nbformat": 4,
 "nbformat_minor": 4
}
